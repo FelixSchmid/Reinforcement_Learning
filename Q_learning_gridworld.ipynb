{
  "nbformat": 4,
  "nbformat_minor": 0,
  "metadata": {
    "colab": {
      "name": "Q_learning_gridworld.ipynb",
      "provenance": [],
      "collapsed_sections": [],
      "include_colab_link": true
    },
    "kernelspec": {
      "display_name": "Python 3",
      "language": "python",
      "name": "python3"
    },
    "language_info": {
      "codemirror_mode": {
        "name": "ipython",
        "version": 3
      },
      "file_extension": ".py",
      "mimetype": "text/x-python",
      "name": "python",
      "nbconvert_exporter": "python",
      "pygments_lexer": "ipython3",
      "version": "3.6.5"
    }
  },
  "cells": [
    {
      "cell_type": "markdown",
      "metadata": {
        "id": "view-in-github",
        "colab_type": "text"
      },
      "source": [
        "<a href=\"https://colab.research.google.com/github/FelixSchmid/Reinforcement_Learning/blob/master/Q_learning_gridworld.ipynb\" target=\"_parent\"><img src=\"https://colab.research.google.com/assets/colab-badge.svg\" alt=\"Open In Colab\"/></a>"
      ]
    },
    {
      "cell_type": "markdown",
      "metadata": {
        "colab_type": "text",
        "id": "W--cwMOLk_AR"
      },
      "source": [
        "# Gridworld example with Q-learning and Sarsa"
      ]
    },
    {
      "cell_type": "code",
      "metadata": {
        "colab_type": "code",
        "id": "V2T7CRxdk_AV",
        "colab": {}
      },
      "source": [
        "# importing the necessary libraries\n",
        "from matplotlib import pyplot as plt\n",
        "from matplotlib import cm\n",
        "import numpy as np"
      ],
      "execution_count": 0,
      "outputs": []
    },
    {
      "cell_type": "markdown",
      "metadata": {
        "colab_type": "text",
        "id": "1PhA8ozjk_AZ"
      },
      "source": [
        "<img src=\"http://drive.google.com/uc?export=view&id=18q7KL4aV6McMtaid_1Let2aGkw6d4QYn\" width=45%>"
      ]
    },
    {
      "cell_type": "code",
      "metadata": {
        "colab_type": "code",
        "id": "GvetlIhpk_Aa",
        "colab": {}
      },
      "source": [
        "class GridWorld:\n",
        "    \"\"\"\n",
        "    The environment: (see image)\n",
        "    * cells: the agent can step on a cell. There is exactly one cell to start from.\n",
        "    This is the top left corner. There is one terminal cell where the walking ends, \n",
        "    the agent can not leave it (blue).\n",
        "    * obstacles: there are cells where the agent can not step. (gray)\n",
        "    * agent: it can move from one cell to an other neighboring cell. \n",
        "    Possible directions: up, down, left, right. Each transition happens with probability 1.\n",
        "    * reward: after each transition the agent receives -1 point. In the terminal cell, no reward\n",
        "    received anymore.\n",
        "    \"\"\"\n",
        "    def __init__(self, size, start_cell, obstacles, terminating_state):\n",
        "        self.size = size\n",
        "        self.start = start_cell\n",
        "        self.obstacles = obstacles\n",
        "        self.termin = terminating_state\n",
        "        self.current_cell = self.start\n",
        "    \n",
        "    def reset(self):\n",
        "        # ----- reset the current cell to the start cell to start again -----\n",
        "        self.current_cell = self.start\n",
        "    \n",
        "    def transition(self, cell, action):\n",
        "        # cell = (row, column) indices\n",
        "        # action: 0 left, 1 up, 2 right, 3 down\n",
        "        # returns: What will be the next state\n",
        "        # Take care of the borders of the grid!\n",
        "\n",
        "        r_current = cell[0]\n",
        "        c_current = cell[1]\n",
        "        \n",
        "        # left\n",
        "        if action == 0:\n",
        "          cell = (r_current,c_current-1)\n",
        "        # up\n",
        "        if action == 1:\n",
        "          cell = (r_current-1,c_current)\n",
        "        # right\n",
        "        if action == 2:\n",
        "          cell = (r_current,c_current+1)\n",
        "        # down\n",
        "        if action == 3:\n",
        "          cell = (r_current+1,c_current)\n",
        "\n",
        "        if (cell[0], cell[1]) in self.obstacles:\n",
        "          # undo step if we hit an obst.\n",
        "          cell = (r_current,c_current)\n",
        "\n",
        "        if cell[0] < 0 \\\n",
        "             or cell[0] > self.size[0] -1 \\\n",
        "             or cell[1] < 0  \\\n",
        "             or cell[1] > self.size[1] -1 : \n",
        "          # undo steps if we left the board\n",
        "          cell = (r_current, c_current)\n",
        "        \n",
        "        # update the current_cell the step\n",
        "        self.current_cell = cell\n",
        "        \n",
        "        return cell\n",
        "\n",
        "\n",
        "    def reward(self, cell, action):\n",
        "        # ----- RETURN REWARD -----\n",
        "        # -1 if not in the terminal state\n",
        "        cell_state = cell\n",
        "        if self.transition(cell, action) != self.termin:\n",
        "          reward = -1\n",
        "        else:\n",
        "          reward = 0\n",
        "        # we only want to know the reward of a pot. transition\n",
        "        # so we undo the action which is done within def transition that we call\n",
        "        # for doing the transition, we need to call transition alone\n",
        "        # probably there is a more elegant solution\n",
        "        self.current_cell = cell_state\n",
        "        return reward\n",
        "\n",
        "    def in_terminal(self):\n",
        "        return self.current_cell == self.termin"
      ],
      "execution_count": 0,
      "outputs": []
    },
    {
      "cell_type": "code",
      "metadata": {
        "colab_type": "code",
        "id": "_SaVJnPMk_Ad",
        "colab": {}
      },
      "source": [
        "class QLearning:\n",
        "    \"\"\"\n",
        "    In this class you can implement the Q-learning algorithm.\n",
        "    The algorithm will run trajectories in the environment (grid world)\n",
        "    and according to the transitions ()\n",
        "    \"\"\"\n",
        "    def __init__(self, gridworld, gamma, alpha, episodes):\n",
        "        self.gridworld = gridworld\n",
        "        self.gamma = gamma\n",
        "        self.alpha = alpha\n",
        "        self.episodes = episodes\n",
        "        # create table\n",
        "        size = gridworld.size\n",
        "        # create a numpy matrix for storing the q-values for each actions and states\n",
        "        self.q_table =  self.q_table = np.zeros((4,) + size)   \n",
        "        # epsilon greedy\n",
        "        self.eps = 0.9\n",
        "        self.episode = 0\n",
        "        # performance summary\n",
        "        self.sum_rewards = []\n",
        "        self.path = []\n",
        "    \n",
        "    def update(self, cell, action, reward, next_cell):\n",
        "        r_t, c_t = cell  # current state\n",
        "        r_tp1, c_tp1 = next_cell  # next state\n",
        "        # the update rule for q-learning\n",
        "        q_current_step = self.q_table[action, r_t, c_t] \n",
        "        q_next_step = max(self.q_table[:, r_tp1, c_tp1])\n",
        "        error_term = reward + self.gamma * q_next_step - q_current_step\n",
        "        self.q_table[action, r_t, c_t] = q_current_step + self.alpha * (error_term)\n",
        "    \n",
        "    def choose_action(self, cell):\n",
        "        r, c = cell\n",
        "        # choose the next action accroding to epsilon-greedy \n",
        "        if np.random.random() > (1 - self.eps):\n",
        "            action = np.argmax(self.q_table[:, r, c])\n",
        "        else:\n",
        "            action = np.random.randint(low=0, high=4)\n",
        "        return action\n",
        "    \n",
        "    def anneal_epsilon(self):\n",
        "        # The algo smoothly shifts from exploration to exploitation.\n",
        "        self.eps = max(0, self.eps * (1 - self.episode / self.episodes * 1.5))\n",
        "    \n",
        "    def one_episode(self):  # plays an episode\n",
        "        # This function is responsible for running the agent \n",
        "        # for one episode.\n",
        "        # During each transition, the Q-function is updated.\n",
        "        cntr = 0  # counter to avoid infinite loops when the agent stucks in the grid and can not reach the terminal state\n",
        "        #  reset the gridworld \n",
        "        self.gridworld.reset()\n",
        "        # append zero at the end of sum_rewards \n",
        "        self.sum_rewards.append(0)\n",
        "        # cycle until termination (end of the current episode) or an upper limit (e.g. 5000)\n",
        "        while not self.gridworld.in_terminal() and cntr < 5000:\n",
        "            cntr += 1\n",
        "            cell = self.gridworld.current_cell\n",
        "            action = self.choose_action(cell)\n",
        "            reward = self.gridworld.reward(cell, action)\n",
        "            next_cell = self.gridworld.transition(cell, action)\n",
        "            # update the q-table \n",
        "            self.update(cell, action, reward, next_cell)\n",
        "            # add the reward to the last element in sum_rewards\n",
        "            self.sum_rewards[-1] += reward\n",
        "\n",
        "        self.episode += 1\n",
        "        self.anneal_epsilon\n",
        "\n",
        "    \n",
        "    def trajectory(self):\n",
        "        self.gridworld.reset()\n",
        "        self.path = []\n",
        "        sum_rewards = 0\n",
        "        itr = 0\n",
        "        while not self.gridworld.in_terminal() and itr < 20:\n",
        "            r, c = self.gridworld.current_cell\n",
        "            action = np.argmax(self.q_table[:, r, c])\n",
        "            sum_rewards += self.gridworld.reward((r, c), action)\n",
        "            self.gridworld.transition((r, c), action)\n",
        "            itr += 1\n",
        "            #print(itr)\n",
        "            self.path.append((r, c))\n",
        "        return sum_rewards\n",
        "\n",
        "    def is_learning_finished(self):  # depands on the number of episodes\n",
        "        return self.episode > self.episodes"
      ],
      "execution_count": 0,
      "outputs": []
    },
    {
      "cell_type": "code",
      "metadata": {
        "colab_type": "code",
        "id": "LDTD4cQMk_Ag",
        "colab": {}
      },
      "source": [
        "class Sarsa:\n",
        "    \n",
        "    def __init__(self, gridworld, gamma, alpha, episodes):\n",
        "        self.gridworld = gridworld\n",
        "        self.gamma = gamma\n",
        "        self.alpha = alpha\n",
        "        self.episodes = episodes\n",
        "        # create table\n",
        "        size = gridworld.size\n",
        "        # create a numpy matrix for storing the q-values for each actions and states\n",
        "        self.q_table =  self.q_table = np.zeros((4,) + size) \n",
        "        # epsilon greedy\n",
        "        self.eps = 0.9\n",
        "        self.episode = 0\n",
        "        # preformance summary\n",
        "        self.sum_rewards = []\n",
        "        self.path = []\n",
        "    \n",
        "    def update(self, cell, action, reward, next_cell, next_action):\n",
        "        # the update rule for sarsa learning\n",
        "        r_t, c_t = cell  # current state\n",
        "        r_tp1, c_tp1 = next_cell  # next state\n",
        "        # update rule \n",
        "        q_current_step = self.q_table[action, r_t, c_t] \n",
        "        q_next_step = self.q_table[next_action, r_tp1, c_tp1]\n",
        "        error_term = reward + self.gamma * q_next_step - q_current_step\n",
        "        self.q_table[action, r_t, c_t] = q_current_step + self.alpha * (error_term)\n",
        "    \n",
        "    def choose_action(self, cell):\n",
        "        r, c = cell\n",
        "        # choose the next action accroding to epsilon-greedy \n",
        "        if np.random.random() > (1 - self.eps):\n",
        "            action = np.argmax(self.q_table[:, r, c])\n",
        "        else:\n",
        "            action = np.random.randint(low=0, high=4)\n",
        "        return action\n",
        "    \n",
        "    def anneal_epsilon(self):\n",
        "        # 1.5 - anneal earlier then the last episode\n",
        "        self.eps = max(0, self.eps * (1 - self.episode / self.episodes * 1.5))\n",
        "    \n",
        "    def one_episode(self):  # plays an episode\n",
        "\n",
        "        # Is it the first step of the episode?\n",
        "        first_step = True\n",
        "        cntr = 0\n",
        "        self.gridworld.reset()\n",
        "        self.sum_rewards.append(0)\n",
        "\n",
        "        while not self.gridworld.in_terminal() and cntr < 5000:\n",
        "            cntr += 1\n",
        "            cell = self.gridworld.current_cell\n",
        "\n",
        "            # ----- choose the action -----\n",
        "            if first_step == True:\n",
        "                action = self.choose_action(cell)\n",
        "                first_step = False\n",
        "            else:\n",
        "                # ensures to take the action with which we updated the\n",
        "                # q-table in the last round of the loop\n",
        "                action = next_action\n",
        "\n",
        "            # get the reward \n",
        "            reward = self.gridworld.reward(cell, action)\n",
        "            # make one transition and store\n",
        "            next_cell = self.gridworld.transition(cell, action)\n",
        "            # update the q-table \n",
        "            next_action = self.choose_action(next_cell)\n",
        "            self.update(cell, action, reward, next_cell, next_action)\n",
        "            # add the reward to the last element in sum_rewards \n",
        "            self.sum_rewards[-1] += reward\n",
        "\n",
        "        self.episode += 1\n",
        "        self.anneal_epsilon\n",
        "    \n",
        "    def trajectory(self):\n",
        "        self.gridworld.reset()\n",
        "        self.path = []\n",
        "        sum_rewards = 0\n",
        "        itr = 0\n",
        "        while not self.gridworld.in_terminal() and itr < 20:\n",
        "            r, c = self.gridworld.current_cell\n",
        "            action = np.argmax(self.q_table[:, r, c])\n",
        "            sum_rewards += self.gridworld.reward((r, c), action)\n",
        "            self.gridworld.transition((r, c), action)\n",
        "            itr += 1\n",
        "            self.path.append((r, c))\n",
        "        return sum_rewards\n",
        "\n",
        "    def is_learning_finished(self):\n",
        "        return self.episode > self.episodes"
      ],
      "execution_count": 0,
      "outputs": []
    },
    {
      "cell_type": "code",
      "metadata": {
        "colab_type": "code",
        "id": "Nx7aZfyrk_Aj",
        "colab": {}
      },
      "source": [
        "def plot_learning_curve(ql):\n",
        "    values = ql.sum_rewards\n",
        "    x = list(range(len(values)))\n",
        "    y = values\n",
        "    plt.plot(x, y, 'ro')\n",
        "    plt.show()"
      ],
      "execution_count": 0,
      "outputs": []
    },
    {
      "cell_type": "markdown",
      "metadata": {
        "colab_type": "text",
        "id": "hGrKAqpulbOA"
      },
      "source": [
        "**Q-Learner**"
      ]
    },
    {
      "cell_type": "code",
      "metadata": {
        "colab_type": "code",
        "id": "FurCM9MDk_An",
        "outputId": "824e2e04-f3ec-442e-8afa-a465e92fa14a",
        "colab": {
          "base_uri": "https://localhost:8080/",
          "height": 284
        }
      },
      "source": [
        "# grid world parameters\n",
        "size = (6, 6)\n",
        "start_cell = (0, 0)\n",
        "obstacles = [(3, 3)]\n",
        "terminating_state = (3, 5)\n",
        "# q learning parameters\n",
        "gamma = 0.9\n",
        "alpha = 0.1\n",
        "episodes = 220\n",
        "\n",
        "gw = GridWorld(size, start_cell, obstacles, terminating_state)\n",
        "solver = QLearning(gw, gamma, alpha, episodes)  # ----- try both of them -----\n",
        "#solver = Sarsa(gw, gamma, alpha, episodes)\n",
        "\n",
        "while not solver.is_learning_finished():\n",
        "    solver.one_episode()\n",
        "    sum_rewards = solver.sum_rewards[-1]\n",
        "    #print(sum_rewards)\n",
        "\n",
        "sum_rewards = solver.trajectory()\n",
        "print(sum_rewards)\n",
        "plot_learning_curve(solver)"
      ],
      "execution_count": 0,
      "outputs": [
        {
          "output_type": "stream",
          "text": [
            "-7\n"
          ],
          "name": "stdout"
        },
        {
          "output_type": "display_data",
          "data": {
            "image/png": "[encoded data removed]",
            "text/plain": [
              "<Figure size 432x288 with 1 Axes>"
            ]
          },
          "metadata": {
            "tags": []
          }
        }
      ]
    },
    {
      "cell_type": "markdown",
      "metadata": {
        "colab_type": "text",
        "id": "OpsiNTkelhfJ"
      },
      "source": [
        "**SARSA**"
      ]
    },
    {
      "cell_type": "code",
      "metadata": {
        "colab_type": "code",
        "id": "sjv58DBYlnwI",
        "outputId": "d3a60175-5fcf-4a3a-8722-50b6621e2d17",
        "colab": {
          "base_uri": "https://localhost:8080/",
          "height": 283
        }
      },
      "source": [
        "# grid world parameters\n",
        "size = (6, 6)\n",
        "start_cell = (0, 0)\n",
        "obstacles = [(3, 3)]\n",
        "terminating_state = (3, 5)\n",
        "# q learning parameters\n",
        "gamma = 0.9\n",
        "alpha = 0.1\n",
        "episodes = 250\n",
        "\n",
        "gw = GridWorld(size, start_cell, obstacles, terminating_state)\n",
        "#solver = QLearning(gw, gamma, alpha, episodes)  # ----- try both of them -----\n",
        "solver = Sarsa(gw, gamma, alpha, episodes)\n",
        "\n",
        "while not solver.is_learning_finished():\n",
        "    solver.one_episode()\n",
        "    sum_rewards = solver.sum_rewards[-1]\n",
        "    #print(sum_rewards)\n",
        "\n",
        "sum_rewards = solver.trajectory()\n",
        "print(sum_rewards)\n",
        "plot_learning_curve(solver)"
      ],
      "execution_count": 0,
      "outputs": [
        {
          "output_type": "stream",
          "text": [
            "-7\n"
          ],
          "name": "stdout"
        },
        {
          "output_type": "display_data",
          "data": {
            "image/png": "[encoded data removed]",
            "text/plain": [
              "<Figure size 432x288 with 1 Axes>"
            ]
          },
          "metadata": {
            "tags": []
          }
        }
      ]
    }
  ]
}