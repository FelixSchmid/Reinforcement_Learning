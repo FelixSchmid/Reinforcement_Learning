{
  "nbformat": 4,
  "nbformat_minor": 0,
  "metadata": {
    "colab": {
      "name": "DPsolver_gridworld.ipynb",
      "provenance": [],
      "collapsed_sections": [],
      "include_colab_link": true
    },
    "kernelspec": {
      "display_name": "Python 3",
      "language": "python",
      "name": "python3"
    },
    "language_info": {
      "codemirror_mode": {
        "name": "ipython",
        "version": 3
      },
      "file_extension": ".py",
      "mimetype": "text/x-python",
      "name": "python",
      "nbconvert_exporter": "python",
      "pygments_lexer": "ipython3",
      "version": "3.6.5"
    }
  },
  "cells": [
    {
      "cell_type": "markdown",
      "metadata": {
        "id": "view-in-github",
        "colab_type": "text"
      },
      "source": [
        "<a href=\"https://colab.research.google.com/github/FelixSchmid/Reinforcement_Learning/blob/master/DPsolver_gridworld.ipynb\" target=\"_parent\"><img src=\"https://colab.research.google.com/assets/colab-badge.svg\" alt=\"Open In Colab\"/></a>"
      ]
    },
    {
      "cell_type": "code",
      "metadata": {
        "colab_type": "code",
        "id": "nzUfYGijaH0Q",
        "colab": {}
      },
      "source": [
        "# importing the necessary libraries\n",
        "from matplotlib import pyplot as plt\n",
        "from matplotlib import cm\n",
        "import numpy as np"
      ],
      "execution_count": 0,
      "outputs": []
    },
    {
      "cell_type": "markdown",
      "metadata": {
        "colab_type": "text",
        "id": "nZlBrYGuaH0X"
      },
      "source": [
        "<img src=\"http://drive.google.com/uc?export=view&id=18q7KL4aV6McMtaid_1Let2aGkw6d4QYn\" width=45%>"
      ]
    },
    {
      "cell_type": "code",
      "metadata": {
        "colab_type": "code",
        "id": "HhCVLjUpaH0Z",
        "colab": {}
      },
      "source": [
        "class GridWorld:\n",
        "    \"\"\" \n",
        "    The environment: (see image)\n",
        "    * cells: the agent can step on a cell. There is exactly one cell to start from.\n",
        "    This is the top left corner. There is one terminal cell where the walking ends, \n",
        "    the agent can not leave it (blue).\n",
        "    * obstacles: there are cells where the agent can not step. (gray)\n",
        "    * agent: it can move from one cell to an other neighboring cell. \n",
        "    Possible directions: up, down, left, right. Each transition happens with probability 1.\n",
        "    * reward: after each transition the agent receives -1 point. In the terminal cell, no reward\n",
        "    received anymore.\n",
        "    \"\"\"\n",
        "    def __init__(self, size, start_cell, obstacles, terminating_state):\n",
        "        self.size = size\n",
        "        self.start = start_cell\n",
        "        self.obstacles = obstacles\n",
        "        self.termin = terminating_state\n",
        "        self.current_cell = self.start\n",
        "    \n",
        "    def reset(self):\n",
        "        self.current_cell = self.start\n",
        "    \n",
        "    def transition(self, cell, action):\n",
        "        # cell = (row, column) indices\n",
        "        # action: 0 left, 1 up, 2 right, 3 down\n",
        "        # returns: What will be the next state\n",
        "\n",
        "        r_current = cell[0]\n",
        "        c_current = cell[1]\n",
        "        \n",
        "        # left\n",
        "        if action == 0:\n",
        "          cell = (r_current,c_current-1)\n",
        "        # up\n",
        "        if action == 1:\n",
        "          cell = (r_current-1,c_current)\n",
        "        # right\n",
        "        if action == 2:\n",
        "          cell = (r_current,c_current+1)\n",
        "        # down\n",
        "        if action == 3:\n",
        "          cell = (r_current+1,c_current)\n",
        "\n",
        "        if (cell[0], cell[1]) in self.obstacles:\n",
        "          # undo step if we hit an obst.\n",
        "          cell = (r_current,c_current)\n",
        "\n",
        "        if cell[0] < 0 \\\n",
        "             or cell[0] > self.size[0] -1 \\\n",
        "             or cell[1] < 0  \\\n",
        "             or cell[1] > self.size[1] -1 : \n",
        "          # undo steps if we left the board\n",
        "          cell = (r_current, c_current)\n",
        "        \n",
        "        # update the current_cell the step\n",
        "        self.current_cell = cell\n",
        "        \n",
        "        return cell\n",
        "\n",
        "\n",
        "    def reward(self, cell, action):\n",
        "        # ----- RETURN REWARD -----\n",
        "        # -1 if not in the terminal state\n",
        "        cell_state = cell\n",
        "        if self.transition(cell, action) != self.termin:\n",
        "          reward = -1\n",
        "        else:\n",
        "          reward = 0\n",
        "        # we only want to know the reward of a pot. transition.\n",
        "        # so, we undo the action which is done within def transition that we call\n",
        "        # for doing the transition, we need to call transition alone.\n",
        "        # probably there is a more elegant solution,\n",
        "        # but it works this way\n",
        "        self.current_cell = cell_state\n",
        "        return reward\n",
        "\n",
        "    def in_terminal(self):\n",
        "        return self.current_cell == self.termin"
      ],
      "execution_count": 0,
      "outputs": []
    },
    {
      "cell_type": "code",
      "metadata": {
        "colab_type": "code",
        "id": "dP7JvLiUaH0d",
        "colab": {}
      },
      "source": [
        "class DPsolver:\n",
        "    \"\"\"\n",
        "    This solver is based on the Bellman-equation and it is \n",
        "    solved by iteratively.\n",
        "    The action-value is used to represent the utility of the \n",
        "    actions and states.\n",
        "    \"\"\"\n",
        "\n",
        "    def __init__(self, gridworld, gamma, iterations):\n",
        "        # setting parametes according to the input parameters\n",
        "        self.gridworld = gridworld\n",
        "        self.gamma = gamma\n",
        "        self.iterations = iterations\n",
        "        size = gridworld.size\n",
        "        # initialize accumulaters\n",
        "        self.cntr = 0\n",
        "        self.sum_rewards = []\n",
        "        self.path = []\n",
        "        # initialize the table for Q-function \n",
        "        self.q_table = np.zeros((4,) + size)\n",
        "\n",
        "    def step(self):\n",
        "        rows, cols = self.gridworld.size  # ask for the size of the grid\n",
        "\n",
        "        for r in range(rows):\n",
        "            for c in range(cols):\n",
        "                for action in range(4):\n",
        "                    # get the reward \n",
        "                    cell_to_update = (r,c)\n",
        "                    reward = self.gridworld.reward(cell_to_update, action)\n",
        "                    # next step\n",
        "                    cell_next = self.gridworld.transition(cell_to_update,action)\n",
        "                    r2, c2 = cell_next\n",
        "                    # policy: always take the next step with that is most valuable\n",
        "                    next_rewards = max(self.q_table[:, r2, c2])\n",
        "                    # compute Q-value and update\n",
        "                    self.q_table[action, r, c] =  reward + self.gamma * next_rewards\n",
        "\n",
        "        # increase the counter\n",
        "        self.cntr += 1\n",
        "        # add the return to the sum_rewards list\n",
        "        self.sum_rewards.append(self.trajectory())\n",
        "\n",
        "    def trajectory(self):\n",
        "        # reset the gridworld\n",
        "        self.gridworld.reset()\n",
        "        # calculate the return along a trajectory followed by the current policy\n",
        "        # when started from the start_cell\n",
        "        self.path = []\n",
        "        sum_rewards = 0\n",
        "        i = 0\n",
        "        while not self.gridworld.in_terminal() and i < 40 :\n",
        "            r, c = self.gridworld.current_cell\n",
        "            # take action with most value\n",
        "            action = np.argmax(self.q_table[:, r, c])\n",
        "            reward = self.gridworld.reward((r, c), action)\n",
        "            # do the step\n",
        "            self.gridworld.transition((r, c), action)\n",
        "            # collect reward\n",
        "            sum_rewards += reward\n",
        "            i += 1\n",
        "            # collect path\n",
        "            self.path.append((r, c))\n",
        "        return sum_rewards\n",
        "\n",
        "    def is_learning_finished(self):\n",
        "        return self.cntr >= self.iterations\n",
        "\n",
        "        "
      ],
      "execution_count": 0,
      "outputs": []
    },
    {
      "cell_type": "code",
      "metadata": {
        "colab_type": "code",
        "id": "su8GzRdaaH0i",
        "colab": {}
      },
      "source": [
        "def plot_learning_curve(ql):\n",
        "    values = ql.sum_rewards\n",
        "    x = list(range(len(values)))\n",
        "    y = values\n",
        "    plt.title('Sum rewards')\n",
        "    plt.plot(x, y, 'ro')\n",
        "    plt.show()"
      ],
      "execution_count": 0,
      "outputs": []
    },
    {
      "cell_type": "code",
      "metadata": {
        "colab_type": "code",
        "id": "G4t02O5-hxwD",
        "outputId": "18939c90-ec40-4693-f6b2-db1e08d1332f",
        "colab": {
          "base_uri": "https://localhost:8080/",
          "height": 434
        }
      },
      "source": [
        "# grid world parameters\n",
        "size = (6, 6)\n",
        "start_cell = (0, 0)\n",
        "obstacles = [(3, 3)]\n",
        "terminating_state = (3, 5)\n",
        "# q learning parameters\n",
        "gamma = 0.9\n",
        "iterations = 8\n",
        "\n",
        "gw = GridWorld(size, start_cell, obstacles, terminating_state)\n",
        "solver = DPsolver(gw, gamma, iterations)\n",
        "\n",
        "while not solver.is_learning_finished():\n",
        "    solver.step()\n",
        "    sum_rewards = solver.sum_rewards[-1]\n",
        "    print(sum_rewards)\n",
        "\n",
        "sum_rewards = solver.trajectory()\n",
        "plot_learning_curve(solver)\n",
        "print(solver.path)"
      ],
      "execution_count": 0,
      "outputs": [
        {
          "output_type": "stream",
          "text": [
            "-40\n",
            "-40\n",
            "-40\n",
            "-40\n",
            "-40\n",
            "-40\n",
            "-40\n",
            "-7\n"
          ],
          "name": "stdout"
        },
        {
          "output_type": "display_data",
          "data": {
            "image/png": "[encoded data removed]",
            "text/plain": [
              "<Figure size 432x288 with 1 Axes>"
            ]
          },
          "metadata": {
            "tags": []
          }
        },
        {
          "output_type": "stream",
          "text": [
            "[(0, 0), (0, 1), (0, 2), (0, 3), (0, 4), (0, 5), (1, 5), (2, 5)]\n"
          ],
          "name": "stdout"
        }
      ]
    },
    {
      "cell_type": "markdown",
      "metadata": {
        "colab_type": "text",
        "id": "idfbC1FyiW6f"
      },
      "source": [
        "For the initially defined problem the algorithm needs 8 iterations until it succesfully finds the shortest way. In the following, I made the problem a little bit more challenging and it took the algorithm 10 iterations to solve it. "
      ]
    },
    {
      "cell_type": "code",
      "metadata": {
        "colab_type": "code",
        "id": "flv-eWXwaH0m",
        "outputId": "3d94dd45-d08c-4da5-aa83-38f662a087dc",
        "colab": {
          "base_uri": "https://localhost:8080/",
          "height": 417
        }
      },
      "source": [
        "# same game with a bit more complicated task\n",
        "size = (6, 6)\n",
        "start_cell = (0, 0)\n",
        "obstacles = [(0, 1), (1, 1), (2, 2)]\n",
        "terminating_state = (0, 2)\n",
        "# q learning parameters\n",
        "gamma = 0.9\n",
        "iterations = 10\n",
        "\n",
        "gw = GridWorld(size, start_cell, obstacles, terminating_state)\n",
        "solver = DPsolver(gw, gamma, iterations)\n",
        "\n",
        "while not solver.is_learning_finished():\n",
        "    solver.step()\n",
        "print('Terminating state:')\n",
        "print(terminating_state)\n",
        "print('Path:')\n",
        "print(solver.path)\n",
        "print('Obstacles:')\n",
        "print(obstacles)\n",
        "plot_learning_curve(solver)\n",
        "print('sum rewards for the last iteration:')\n",
        "sum_rewards = solver.trajectory()\n",
        "print(sum_rewards)"
      ],
      "execution_count": 0,
      "outputs": [
        {
          "output_type": "stream",
          "text": [
            "Terminating state:\n",
            "(0, 2)\n",
            "Path:\n",
            "[(0, 0), (1, 0), (2, 0), (2, 1), (3, 1), (3, 2), (3, 3), (2, 3), (1, 3), (1, 2)]\n",
            "Obstacles:\n",
            "[(0, 1), (1, 1), (2, 2)]\n"
          ],
          "name": "stdout"
        },
        {
          "output_type": "display_data",
          "data": {
            "image/png": "[encoded data removed]",
            "text/plain": [
              "<Figure size 432x288 with 1 Axes>"
            ]
          },
          "metadata": {
            "tags": []
          }
        },
        {
          "output_type": "stream",
          "text": [
            "sum rewards for the last iteration:\n",
            "-9\n"
          ],
          "name": "stdout"
        }
      ]
    }
  ]
}