{
  "nbformat": 4,
  "nbformat_minor": 0,
  "metadata": {
    "accelerator": "GPU",
    "colab": {
      "name": "Deep_Q_Network_CartPole.ipynb",
      "provenance": [],
      "collapsed_sections": [],
      "include_colab_link": true
    },
    "kernelspec": {
      "display_name": "Python 3",
      "language": "python",
      "name": "python3"
    },
    "language_info": {
      "codemirror_mode": {
        "name": "ipython",
        "version": 3
      },
      "file_extension": ".py",
      "mimetype": "text/x-python",
      "name": "python",
      "nbconvert_exporter": "python",
      "pygments_lexer": "ipython3",
      "version": "3.6.9"
    }
  },
  "cells": [
    {
      "cell_type": "markdown",
      "metadata": {
        "id": "view-in-github",
        "colab_type": "text"
      },
      "source": [
        "<a href=\"https://colab.research.google.com/github/FelixSchmid/Reinforcement_Learning/blob/master/Deep_Q_Network_CartPole.ipynb\" target=\"_parent\"><img src=\"https://colab.research.google.com/assets/colab-badge.svg\" alt=\"Open In Colab\"/></a>"
      ]
    },
    {
      "cell_type": "markdown",
      "metadata": {
        "colab_type": "text",
        "id": "X4t8u7l1YhO3"
      },
      "source": [
        "# DQN on the CartPole problem"
      ]
    },
    {
      "cell_type": "markdown",
      "metadata": {
        "colab_type": "text",
        "id": "yT1jCKafYhO6"
      },
      "source": [
        "### The CartPole problem"
      ]
    },
    {
      "cell_type": "markdown",
      "metadata": {
        "colab_type": "text",
        "id": "n8soEmiKYhO7"
      },
      "source": [
        "As the image below shows, the goal of the agent is to balance a verticle rod on the top of the car. This position is unstable and that is the main reason for the difficulty.\n",
        "\n",
        "<img src=\"https://drive.google.com/uc?export=download&id=1wiFksyB3-mcirfdZEvrT2DPD7SBEjye2\" >\n",
        "\n",
        "The problem is solved if the average of the agent's scores is greater than 195 gathered in 100 episodes.\n",
        "The agent receives reward 1 in each timestep until the psoition of the rod is correct (not inclined too far away from the vertical position).\n",
        "The length of one episode is 200 time steps. Therefore the possible maximum score is 200.\n",
        "\n",
        "The state is low dimensional and cosists of:\n",
        "* position \n",
        "* velocity\n",
        "* angle \n",
        "* angular velocity\n",
        "\n",
        "Further details can be found on OpenAI gym's webpage: [Leader Board](https://github.com/openai/gym/wiki/CartPole-v0)"
      ]
    },
    {
      "cell_type": "code",
      "metadata": {
        "colab_type": "code",
        "id": "xMIupZCRYhPb",
        "outputId": "28497fa4-c215-4476-8166-1c01ace8c104",
        "colab": {
          "base_uri": "https://localhost:8080/",
          "height": 51
        }
      },
      "source": [
        "%matplotlib inline\n",
        "%tensorflow_version 1.x\n",
        "import matplotlib.pyplot as plt\n",
        "import gym \n",
        "from gym.wrappers import Monitor\n",
        "import numpy as np\n",
        "import random\n",
        "from enum import Enum\n",
        "from skimage import transform as trf\n",
        "from keras.models import Sequential # Keras: highlevel API above dnn libraries (tendorflow, cntr, theano)\n",
        "from keras.layers import Dense, Convolution2D, Flatten\n",
        "from keras.optimizers import Adam, SGD, RMSprop"
      ],
      "execution_count": 0,
      "outputs": [
        {
          "output_type": "stream",
          "text": [
            "TensorFlow 1.x selected.\n"
          ],
          "name": "stdout"
        },
        {
          "output_type": "stream",
          "text": [
            "Using TensorFlow backend.\n"
          ],
          "name": "stderr"
        }
      ]
    },
    {
      "cell_type": "code",
      "metadata": {
        "colab_type": "code",
        "id": "5nH6b0ijYhPi",
        "colab": {}
      },
      "source": [
        "class Optimizer(Enum): # Enum, Makes easier to try different optimizers\n",
        "    ADAM = 1\n",
        "    RMSPROP = 2\n",
        "    SGD = 3"
      ],
      "execution_count": 0,
      "outputs": []
    },
    {
      "cell_type": "code",
      "metadata": {
        "colab_type": "code",
        "id": "3aP0PflVYhPn",
        "colab": {}
      },
      "source": [
        "# The implementation of DQN.\n",
        "class Dqn:\n",
        "    \n",
        "    def __init__(self, params):         \n",
        "        self.env = None                       # The environment where the RL agent will learn.\n",
        "        self.buffer_size = params.buf_size    # The maximum size of the experience replay.\n",
        "        self.batch_size = params.batch        # Batch size during training.\n",
        "        self.epoch = params.epoch             # For one training cycle, the number epoch on a batch.\n",
        "        self.max_episode = params.max_ep      # The number of episodes for training.\n",
        "        self.eps0 = params.eps                # The starting value of epsilon in the epsilon-greedy policy.\n",
        "        self.gamma = params.gamma             # Discounting factor.\n",
        "        self.C = params.C                     # Frequency of synchronizing the frozen network.\n",
        "        self.train_freq = params.train_freq   # Update frequency for the not frozen network.\n",
        "        self.eval_freq = params.eval_freq     # Evaluation frequency.\n",
        "        self.net = params.net                 # The description of the network. List of tuples. A tuple: (number of units, activation)\n",
        "        self.lr = params.lr                   # learning rate\n",
        "        self.opt = params.opt                 # Optimizer.\n",
        "\n",
        "        self.q_cont, self.q_frzn = None, None # two networks for training: continuously updated and frozen\n",
        "\n",
        "        self.buffer = []  # experience replay\n",
        "        \n",
        "        self.env = gym.make('CartPole-v0')\n",
        "        self.env.reset()\n",
        "        self.q_cont, self.q_frzn = self._init_models()\n",
        "    \n",
        "    # ------------------------------------------------------\n",
        "    # functions for inicialization\n",
        "    \n",
        "    def _init_optimizer(self):\n",
        "\n",
        "        optz = None\n",
        "        if self.opt == Optimizer.ADAM:\n",
        "            optz = Adam(self.lr)\n",
        "        elif self.opt == Optimizer.SGD:\n",
        "            optz = SGD(self.lr)\n",
        "        elif self.opt == Optimizer.RMSPROP:\n",
        "            optz = RMSprop(self.lr)\n",
        "\n",
        "        return optz\n",
        "\n",
        "    # The network builds up from Dense layers (similar to the fully connected)\n",
        "    def _init_models(self):\n",
        "        \n",
        "        def build(strc):\n",
        "            # strc - list of tuples\n",
        "            # each tuple contains: number of nodes in the dense layer, activation function name (e.g.: 'relu')\n",
        "            q = Sequential() \n",
        "            q.add(Dense(strc[0][0], input_shape=(4,), activation=strc[0][1]))\n",
        "\n",
        "            for i in range(1, len(strc)):\n",
        "                q.add(Dense(strc[i][0], activation=strc[i][1]))\n",
        "\n",
        "            optz = self._init_optimizer()\n",
        "            q.compile(optimizer=optz, loss='mse')\n",
        "            return q\n",
        "\n",
        "        q_cont = build(self.net)  # continuously updated network (Q-function)\n",
        "        q_frzn = build(self.net)  # frozen network\n",
        "\n",
        "        q_cont.set_weights(q_frzn.get_weights())  # synchronization\n",
        "\n",
        "        return q_cont, q_frzn\n",
        "\n",
        "    def _init_buffer(self, number):\n",
        "        # gathers 'number' pieces of experiences randomly\n",
        "        exps = []\n",
        "        obs, rw, done, _ = self.env.step(0)\n",
        "        for _ in range(number):\n",
        "\n",
        "            if done:\n",
        "                obs = self.env.reset()\n",
        "\n",
        "            action = self.env.action_space.sample()  # sampling random actions from the environment\n",
        "            obs_next, rw, done, _ = self.env.step(action)  # taking the step and observe the results\n",
        "            exps.append((obs, rw, action, done, obs_next))  # we append a new experience\n",
        "            obs = obs_next\n",
        "\n",
        "        self.append(exps) \n",
        "    \n",
        "    def close(self):\n",
        "        self.env.close()\n",
        "\n",
        "    def train_function(self):\n",
        "        \n",
        "        # initializing experience replay with random experiences\n",
        "        self._init_buffer(self.batch_size)\n",
        "\n",
        "        print(\"Initialization was finished.\")\n",
        "        print(\"Training was started.\")\n",
        "\n",
        "        ep_id = 1\n",
        "        cntr = 0\n",
        "        eval_permitted = True\n",
        "        rtn = 0\n",
        "        exps = []\n",
        "        \n",
        "        ep_ids = []\n",
        "        returns = []\n",
        "\n",
        "        eps = self.eps0\n",
        "        self.env.reset()\n",
        "        obs, _, done, _ = self.env.step(0)\n",
        "\n",
        "        while ep_id < self.max_episode:\n",
        "\n",
        "            cntr += 1\n",
        "\n",
        "            if done:\n",
        "                if ep_id % 10 == 0:\n",
        "                    print('Episode Id: ' + str(ep_id) + ' Return during training: ' + str(rtn))\n",
        "                rtn = 0\n",
        "                ep_id += 1\n",
        "                eval_permitted = True\n",
        "                obs = self.env.reset() # when an episode ends (done = True) the environment is reseted\n",
        "            \n",
        "            action = self.select_action_epsilon(obs, eps)  \n",
        "            obs_next, rw, done, _ = self.env.step(action)  \n",
        "            rtn += rw\n",
        "            \n",
        "            if done:\n",
        "                if rtn < 180:\n",
        "                    rw = -1\n",
        "                    obs_next *= 0.0\n",
        "                    obs *= 0.0\n",
        "                elif rtn >= 180:\n",
        "                    rw = 100\n",
        "\n",
        "            exps.append((obs, rw, action, done, obs_next))\n",
        "            obs = obs_next\n",
        "\n",
        "            if cntr % 128 == 0:\n",
        "                self.append(exps)\n",
        "                exps.clear()\n",
        "            \n",
        "            # training\n",
        "            if  cntr % self.train_freq == 0:\n",
        "                # sampling experiences from the replay then train q_cont with them\n",
        "                x, y = self.sample(self.batch_size)\n",
        "                self.q_cont.fit(x, y, epochs=self.epoch, batch_size=self.batch_size, verbose=0)\n",
        "            \n",
        "            # synchronizing the frozen network\n",
        "            if cntr % self.C == 0:\n",
        "                self.q_frzn.set_weights(self.q_cont.get_weights())\n",
        "\n",
        "            # evaluating at the current stage of learning\n",
        "            if ep_id % self.eval_freq == 0 and eval_permitted:\n",
        "                r = self.evaluation()\n",
        "                ep_ids.append(ep_id)\n",
        "                returns.append(r)\n",
        "                #print('EValuation at episode: ' + str(ep_id) + ' -> ' +  str(r))\n",
        "                eval_permitted = False\n",
        "                if r >= 185:\n",
        "                    break\n",
        "            \n",
        "            # Decrasing the epsilon value for epsilon-greedy. Exploration -> exploitation\n",
        "            eps = max(eps - 0.001, 0.01)\n",
        "\n",
        "        print(\"Training was finished.\")\n",
        "        return ep_ids, returns\n",
        "\n",
        "    def evaluation(self, video=False):\n",
        "        \n",
        "        orig_env = self.env\n",
        "        if video:\n",
        "            self.env = Monitor(orig_env, 'videos/cartpole', force=True)\n",
        "\n",
        "        obs = self.env.reset()\n",
        "        done = False\n",
        "        rtn = 0\n",
        "        ep_id = 0\n",
        "        rtns = []\n",
        "\n",
        "        while ep_id < 50:\n",
        "\n",
        "            if done:\n",
        "                rtns.append(rtn)\n",
        "                rtn = 0\n",
        "                ep_id += 1\n",
        "                obs = self.env.reset()\n",
        "\n",
        "            action = self.select_action_epsilon(obs, 0.01)\n",
        "            obs, rw, done, _ = self.env.step(action)\n",
        "            rtn += rw\n",
        "\n",
        "        self.env = orig_env\n",
        "        return np.mean(rtns)\n",
        "\n",
        "    # ------------------------------------------------------\n",
        "    # Functions for handling the experience replay\n",
        "\n",
        "    def clear_buffer(self):\n",
        "        self.buffer.clear()\n",
        "\n",
        "    # The new experiences are added at the end of the buffer.\n",
        "    # The too old experiences are deleted.\n",
        "    def append(self, experiences):\n",
        "        # experiences - list of experiences\n",
        "        # check if appending the new set of experiences to the buffer has enough space \n",
        "        if len(self.buffer) + len(experiences) > self.buffer_size:\n",
        "            # delete as many experiences as required \n",
        "            n = len(self.buffer) + len(experiences) - self.buffer_size\n",
        "            del self.buffer[:n]\n",
        "\n",
        "        #  appending the new experiences to the buffer\n",
        "        self.buffer += experiences \n",
        "\n",
        "    def sample(self, number):\n",
        "        exps = random.sample(self.buffer, number)    # experiences list\n",
        "        obs = np.stack([x[0] for x in exps], axis=0) \n",
        "        rws = np.stack([x[1] for x in exps], axis=0) \n",
        "        acts = np.stack([x[2] for x in exps], axis=0) \n",
        "        dones = np.stack([x[3] for x in exps], axis=0) \n",
        "        next_obs = np.stack([x[4] for x in exps], axis=0) \n",
        "\n",
        "        # predict (forward execute) with q_cont on obs\n",
        "        q_vals = self.q_cont.predict(obs, batch_size=number) \n",
        "        # predict with q_frzn on next_obs \n",
        "        fzn_q_vals = self.q_frzn.predict(next_obs, batch_size=number) \n",
        "        \n",
        "        # The action function is represented by a network.\n",
        "        # The input of this network is the state, \n",
        "        # the output is the set of action-values\n",
        "        # corresponding to the actions.\n",
        "        # So the number of outputs is equal with the number of actions.\n",
        "        # In training we sample one transition at a time, therefore we have loss\n",
        "        # for only one output (action) at a time.\n",
        "        # But for training, we have to provide information for all of the outputs.\n",
        "\n",
        "        sub_values = rws + self.gamma * (1 - dones) * np.max(fzn_q_vals, axis=1) \n",
        "        q_vals[list(range(number)), acts] = sub_values  \n",
        "  \n",
        "        x = obs.astype(dtype=np.float32)\n",
        "        y = q_vals.astype(dtype=np.float32)\n",
        "\n",
        "        return x, y\n",
        "\n",
        "    # ------------------------------------------------------\n",
        "    # Choosing an action\n",
        "\n",
        "    # epsilon-greedy\n",
        "    def select_action_epsilon(self, state, eps):  # state shape: (4) nunmpy array\n",
        "        s = np.expand_dims(state, axis=0)\n",
        "        max_idx = np.argmax(self.q_cont.predict(s, batch_size=1))\n",
        "        if np.random.random() < 1 - eps:\n",
        "            return max_idx\n",
        "        return (max_idx + 1) % 2 # now we have only two actions\n",
        "\n",
        "    # no epsilon-greedy\n",
        "    def select_action(self, state):\n",
        "        s = np.expand_dims(state, axis=0)\n",
        "        return np.argmax(self.q_cont.predict(s, batch_size=1))"
      ],
      "execution_count": 0,
      "outputs": []
    },
    {
      "cell_type": "markdown",
      "metadata": {
        "colab_type": "text",
        "id": "b2fKGqp2r48z"
      },
      "source": [
        "# 1. Run (default)"
      ]
    },
    {
      "cell_type": "code",
      "metadata": {
        "colab_type": "code",
        "id": "ulK9hpuLYhPr",
        "colab": {}
      },
      "source": [
        "class Parameters:\n",
        "\n",
        "    def __init__(self):\n",
        "                                 # Default values\n",
        "        self.buf_size = 5000     # 5000\n",
        "        self.batch = 256         # 256\n",
        "        self.epoch = 5           # 5\n",
        "        self.max_ep = 500        # 500\n",
        "        self.eps = 0.5           # 0.5\n",
        "        self.gamma = 0.9         # 0.9\n",
        "        self.C = 100             # 100\n",
        "        self.train_freq = 1      # 1\n",
        "        self.eval_freq = 10      # 10\n",
        "        self.net = [(128, 'relu'), (128, 'relu'), (2, 'relu')] # [(128, 'relu'), (128, 'relu'), (2, 'relu')]\n",
        "        self.lr = 0.0001         # 0.0001\n",
        "        self.opt = Optimizer.ADAM # Optimizer.ADAM"
      ],
      "execution_count": 0,
      "outputs": []
    },
    {
      "cell_type": "code",
      "metadata": {
        "colab_type": "code",
        "id": "lk9gEXHSYhPv",
        "outputId": "a29a0464-cc3f-41d7-d613-d0aff8d9f4ae",
        "colab": {
          "base_uri": "https://localhost:8080/",
          "height": 639
        }
      },
      "source": [
        "# Running the training and evaluation\n",
        "pms = Parameters()\n",
        "dqn = Dqn(pms)\n",
        "ep_ids, returns = dqn.train_function()\n",
        "plt.plot(ep_ids, returns)\n",
        "dqn.evaluation(video=False)\n",
        "dqn.close()"
      ],
      "execution_count": 0,
      "outputs": [
        {
          "output_type": "stream",
          "text": [
            "Initialization was finished.\n",
            "Training was started.\n",
            "Episode Id: 10 Return during training: 15.0\n",
            "Episode Id: 20 Return during training: 11.0\n",
            "Episode Id: 30 Return during training: 13.0\n",
            "Episode Id: 40 Return during training: 11.0\n",
            "Episode Id: 50 Return during training: 14.0\n",
            "Episode Id: 60 Return during training: 37.0\n",
            "Episode Id: 70 Return during training: 46.0\n",
            "Episode Id: 80 Return during training: 44.0\n",
            "Episode Id: 90 Return during training: 77.0\n",
            "Episode Id: 100 Return during training: 71.0\n",
            "Episode Id: 110 Return during training: 84.0\n",
            "Episode Id: 120 Return during training: 58.0\n",
            "Episode Id: 130 Return during training: 75.0\n",
            "Episode Id: 140 Return during training: 75.0\n",
            "Episode Id: 150 Return during training: 194.0\n",
            "Episode Id: 160 Return during training: 107.0\n",
            "Episode Id: 170 Return during training: 99.0\n",
            "Episode Id: 180 Return during training: 41.0\n",
            "Episode Id: 190 Return during training: 150.0\n",
            "Training was finished.\n"
          ],
          "name": "stdout"
        },
        {
          "output_type": "display_data",
          "data": {
            "image/png": "[encoded data removed]",
            "text/plain": [
              "<Figure size 432x288 with 1 Axes>"
            ]
          },
          "metadata": {
            "tags": [],
            "needs_background": "light"
          }
        }
      ]
    },
    {
      "cell_type": "markdown",
      "metadata": {
        "colab_type": "text",
        "id": "xDyjYZsirfR1"
      },
      "source": [
        "# 2. Run (default)\n"
      ]
    },
    {
      "cell_type": "code",
      "metadata": {
        "colab_type": "code",
        "id": "rSSB35p1rZEN",
        "colab": {}
      },
      "source": [
        "class Parameters:\n",
        "\n",
        "    def __init__(self):\n",
        "                                 # Default values\n",
        "        self.buf_size = 5000     # 5000\n",
        "        self.batch = 256         # 256\n",
        "        self.epoch = 5           # 5\n",
        "        self.max_ep = 500        # 500\n",
        "        self.eps = 0.5           # 0.5\n",
        "        self.gamma = 0.9         # 0.9\n",
        "        self.C = 100             # 100\n",
        "        self.train_freq = 1      # 1\n",
        "        self.eval_freq = 10      # 10\n",
        "        self.net = [(128, 'relu'), (128, 'relu'), (2, 'relu')] # [(128, 'relu'), (128, 'relu'), (2, 'relu')]\n",
        "        self.lr = 0.0001         # 0.0001\n",
        "        self.opt = Optimizer.ADAM # Optimizer.ADAM"
      ],
      "execution_count": 0,
      "outputs": []
    },
    {
      "cell_type": "code",
      "metadata": {
        "colab_type": "code",
        "id": "fk1bxIlbYhP2",
        "outputId": "6d35b7c2-3001-4d88-fa88-834312e7f932",
        "colab": {
          "base_uri": "https://localhost:8080/",
          "height": 520
        }
      },
      "source": [
        "# Running the training and evaluation\n",
        "pms = Parameters()\n",
        "dqn = Dqn(pms)\n",
        "ep_ids, returns = dqn.train_function()\n",
        "plt.plot(ep_ids, returns)\n",
        "dqn.evaluation(video=False)\n",
        "dqn.close()"
      ],
      "execution_count": 0,
      "outputs": [
        {
          "output_type": "stream",
          "text": [
            "Initialization was finished.\n",
            "Training was started.\n",
            "Episode Id: 10 Return during training: 15.0\n",
            "Episode Id: 20 Return during training: 14.0\n",
            "Episode Id: 30 Return during training: 12.0\n",
            "Episode Id: 40 Return during training: 13.0\n",
            "Episode Id: 50 Return during training: 13.0\n",
            "Episode Id: 60 Return during training: 13.0\n",
            "Episode Id: 70 Return during training: 32.0\n",
            "Episode Id: 80 Return during training: 31.0\n",
            "Episode Id: 90 Return during training: 29.0\n",
            "Episode Id: 100 Return during training: 61.0\n",
            "Episode Id: 110 Return during training: 149.0\n",
            "Episode Id: 120 Return during training: 153.0\n",
            "Training was finished.\n"
          ],
          "name": "stdout"
        },
        {
          "output_type": "display_data",
          "data": {
            "image/png": "[encoded data removed]",
            "text/plain": [
              "<Figure size 432x288 with 1 Axes>"
            ]
          },
          "metadata": {
            "tags": [],
            "needs_background": "light"
          }
        }
      ]
    },
    {
      "cell_type": "markdown",
      "metadata": {
        "colab_type": "text",
        "id": "QY9fyxwYrmur"
      },
      "source": [
        "# 3. Run (default)"
      ]
    },
    {
      "cell_type": "code",
      "metadata": {
        "colab_type": "code",
        "id": "MJonD6r5rqAU",
        "colab": {}
      },
      "source": [
        "class Parameters:\n",
        "\n",
        "    def __init__(self):\n",
        "                                 # Default values\n",
        "        self.buf_size = 5000     # 5000\n",
        "        self.batch = 256         # 256\n",
        "        self.epoch = 5           # 5\n",
        "        self.max_ep = 500         # 500\n",
        "        self.eps = 0.5           # 0.5\n",
        "        self.gamma = 0.9         # 0.9\n",
        "        self.C = 100             # 100\n",
        "        self.train_freq = 1      # 1\n",
        "        self.eval_freq = 10      # 10\n",
        "        self.net = [(128, 'relu'), (128, 'relu'), (2, 'relu')] # [(128, 'relu'), (128, 'relu'), (2, 'relu')]\n",
        "        self.lr = 0.0001         # 0.0001\n",
        "        self.opt = Optimizer.ADAM # Optimizer.ADAM"
      ],
      "execution_count": 0,
      "outputs": []
    },
    {
      "cell_type": "code",
      "metadata": {
        "colab_type": "code",
        "id": "yq6lo7Ruc9UM",
        "outputId": "e9d4219d-24dd-4451-f2fa-3a48d7fcd71f",
        "colab": {
          "base_uri": "https://localhost:8080/",
          "height": 418
        }
      },
      "source": [
        "# Running the training and evaluation\n",
        "pms = Parameters()\n",
        "dqn = Dqn(pms)\n",
        "ep_ids, returns = dqn.train_function()\n",
        "plt.plot(ep_ids, returns)\n",
        "dqn.evaluation(video=False)\n",
        "dqn.close()"
      ],
      "execution_count": 0,
      "outputs": [
        {
          "output_type": "stream",
          "text": [
            "Initialization was finished.\n",
            "Training was started.\n",
            "Episode Id: 10 Return during training: 9.0\n",
            "Episode Id: 20 Return during training: 14.0\n",
            "Episode Id: 30 Return during training: 15.0\n",
            "Episode Id: 40 Return during training: 15.0\n",
            "Episode Id: 50 Return during training: 28.0\n",
            "Episode Id: 60 Return during training: 200.0\n",
            "Training was finished.\n"
          ],
          "name": "stdout"
        },
        {
          "output_type": "display_data",
          "data": {
            "image/png": "[encoded data removed]",
            "text/plain": [
              "<Figure size 432x288 with 1 Axes>"
            ]
          },
          "metadata": {
            "tags": [],
            "needs_background": "light"
          }
        }
      ]
    },
    {
      "cell_type": "markdown",
      "metadata": {
        "colab_type": "text",
        "id": "Wh-yMfO_iXbO"
      },
      "source": [
        "# 4. Run (setting C to 1)"
      ]
    },
    {
      "cell_type": "code",
      "metadata": {
        "colab_type": "code",
        "id": "zp-iBse6iU1_",
        "colab": {}
      },
      "source": [
        "class Parameters:\n",
        "\n",
        "    def __init__(self):\n",
        "                                 # Default values\n",
        "        self.buf_size = 5000     # 5000\n",
        "        self.batch = 256         # 256\n",
        "        self.epoch = 5           # 5\n",
        "        self.max_ep = 500         # 500\n",
        "        self.eps = 0.5           # 0.5\n",
        "        self.gamma = 0.9         # 0.9\n",
        "        self.C = 1             # 100\n",
        "        self.train_freq = 1      # 1\n",
        "        self.eval_freq = 10      # 10\n",
        "        self.net = [(128, 'relu'), (128, 'relu'), (2, 'relu')] # [(128, 'relu'), (128, 'relu'), (2, 'relu')]\n",
        "        self.lr = 0.0001         # 0.0001\n",
        "        self.opt = Optimizer.ADAM # Optimizer.ADAM"
      ],
      "execution_count": 0,
      "outputs": []
    },
    {
      "cell_type": "code",
      "metadata": {
        "colab_type": "code",
        "id": "YsbyiA-4ib-o",
        "outputId": "1c8f6166-8941-4157-c425-6120f8e11781",
        "colab": {
          "base_uri": "https://localhost:8080/",
          "height": 1000
        }
      },
      "source": [
        "# Running the training and evaluation\n",
        "pms = Parameters()\n",
        "dqn = Dqn(pms)\n",
        "ep_ids, returns = dqn.train_function()\n",
        "plt.plot(ep_ids, returns)\n",
        "dqn.evaluation(video=False)\n",
        "dqn.close()"
      ],
      "execution_count": 0,
      "outputs": [
        {
          "output_type": "stream",
          "text": [
            "Initialization was finished.\n",
            "Training was started.\n",
            "Episode Id: 10 Return during training: 10.0\n",
            "Episode Id: 20 Return during training: 11.0\n",
            "Episode Id: 30 Return during training: 9.0\n",
            "Episode Id: 40 Return during training: 9.0\n",
            "Episode Id: 50 Return during training: 9.0\n",
            "Episode Id: 60 Return during training: 9.0\n",
            "Episode Id: 70 Return during training: 9.0\n",
            "Episode Id: 80 Return during training: 9.0\n",
            "Episode Id: 90 Return during training: 11.0\n",
            "Episode Id: 100 Return during training: 10.0\n",
            "Episode Id: 110 Return during training: 11.0\n",
            "Episode Id: 120 Return during training: 10.0\n",
            "Episode Id: 130 Return during training: 8.0\n",
            "Episode Id: 140 Return during training: 10.0\n",
            "Episode Id: 150 Return during training: 10.0\n",
            "Episode Id: 160 Return during training: 9.0\n",
            "Episode Id: 170 Return during training: 10.0\n",
            "Episode Id: 180 Return during training: 9.0\n",
            "Episode Id: 190 Return during training: 8.0\n",
            "Episode Id: 200 Return during training: 10.0\n",
            "Episode Id: 210 Return during training: 8.0\n",
            "Episode Id: 220 Return during training: 10.0\n",
            "Episode Id: 230 Return during training: 8.0\n",
            "Episode Id: 240 Return during training: 9.0\n",
            "Episode Id: 250 Return during training: 9.0\n",
            "Episode Id: 260 Return during training: 9.0\n",
            "Episode Id: 270 Return during training: 9.0\n",
            "Episode Id: 280 Return during training: 8.0\n",
            "Episode Id: 290 Return during training: 10.0\n",
            "Episode Id: 300 Return during training: 12.0\n",
            "Episode Id: 310 Return during training: 10.0\n",
            "Episode Id: 320 Return during training: 9.0\n",
            "Episode Id: 330 Return during training: 9.0\n",
            "Episode Id: 340 Return during training: 9.0\n",
            "Episode Id: 350 Return during training: 13.0\n",
            "Episode Id: 360 Return during training: 10.0\n",
            "Episode Id: 370 Return during training: 19.0\n",
            "Episode Id: 380 Return during training: 33.0\n",
            "Episode Id: 390 Return during training: 16.0\n",
            "Episode Id: 400 Return during training: 16.0\n",
            "Episode Id: 410 Return during training: 35.0\n",
            "Episode Id: 420 Return during training: 34.0\n",
            "Episode Id: 430 Return during training: 79.0\n",
            "Episode Id: 440 Return during training: 93.0\n",
            "Episode Id: 450 Return during training: 69.0\n",
            "Episode Id: 460 Return during training: 75.0\n",
            "Episode Id: 470 Return during training: 79.0\n",
            "Episode Id: 480 Return during training: 75.0\n",
            "Episode Id: 490 Return during training: 32.0\n",
            "Training was finished.\n"
          ],
          "name": "stdout"
        },
        {
          "output_type": "display_data",
          "data": {
            "image/png": "[encoded data removed]",
            "text/plain": [
              "<Figure size 432x288 with 1 Axes>"
            ]
          },
          "metadata": {
            "tags": [],
            "needs_background": "light"
          }
        }
      ]
    },
    {
      "cell_type": "markdown",
      "metadata": {
        "colab_type": "text",
        "id": "-1EFNiqjyUeE"
      },
      "source": [
        "# 5. Run (setting train frequency to 2)"
      ]
    },
    {
      "cell_type": "code",
      "metadata": {
        "colab_type": "code",
        "id": "g_0mGrp7yNLb",
        "colab": {}
      },
      "source": [
        "class Parameters:\n",
        "\n",
        "    def __init__(self):\n",
        "                                 # Default values\n",
        "        self.buf_size = 5000     # 5000\n",
        "        self.batch = 256         # 256\n",
        "        self.epoch = 5           # 5\n",
        "        self.max_ep = 500         # 500\n",
        "        self.eps = 0.5           # 0.5\n",
        "        self.gamma = 0.9         # 0.9\n",
        "        self.C = 100             # 100\n",
        "        self.train_freq = 2      # 1\n",
        "        self.eval_freq = 10      # 10\n",
        "        self.net = [(128, 'relu'), (128, 'relu'), (2, 'relu')] # [(128, 'relu'), (128, 'relu'), (2, 'relu')]\n",
        "        self.lr = 0.0001         # 0.0001\n",
        "        self.opt = Optimizer.ADAM # Optimizer.ADAM"
      ],
      "execution_count": 0,
      "outputs": []
    },
    {
      "cell_type": "code",
      "metadata": {
        "colab_type": "code",
        "id": "1o6ZSu_HyPdC",
        "outputId": "cc36a012-9076-4fa3-d2e0-acded03601d2",
        "colab": {
          "base_uri": "https://localhost:8080/",
          "height": 984
        }
      },
      "source": [
        "# Running the training and evaluation\n",
        "pms = Parameters()\n",
        "dqn = Dqn(pms)\n",
        "ep_ids, returns = dqn.train_function()\n",
        "plt.plot(ep_ids, returns)\n",
        "dqn.evaluation(video=False)\n",
        "dqn.close()"
      ],
      "execution_count": 0,
      "outputs": [
        {
          "output_type": "stream",
          "text": [
            "WARNING:tensorflow:From /tensorflow-1.15.2/python3.6/tensorflow_core/python/ops/resource_variable_ops.py:1630: calling BaseResourceVariable.__init__ (from tensorflow.python.ops.resource_variable_ops) with constraint is deprecated and will be removed in a future version.\n",
            "Instructions for updating:\n",
            "If using Keras pass *_constraint arguments to layers.\n",
            "Initialization was finished.\n",
            "Training was started.\n",
            "WARNING:tensorflow:From /usr/local/lib/python3.6/dist-packages/keras/backend/tensorflow_backend.py:422: The name tf.global_variables is deprecated. Please use tf.compat.v1.global_variables instead.\n",
            "\n",
            "Episode Id: 10 Return during training: 17.0\n",
            "Episode Id: 20 Return during training: 11.0\n",
            "Episode Id: 30 Return during training: 10.0\n",
            "Episode Id: 40 Return during training: 12.0\n",
            "Episode Id: 50 Return during training: 12.0\n",
            "Episode Id: 60 Return during training: 10.0\n",
            "Episode Id: 70 Return during training: 12.0\n",
            "Episode Id: 80 Return during training: 9.0\n",
            "Episode Id: 90 Return during training: 12.0\n",
            "Episode Id: 100 Return during training: 11.0\n",
            "Episode Id: 110 Return during training: 9.0\n",
            "Episode Id: 120 Return during training: 9.0\n",
            "Episode Id: 130 Return during training: 10.0\n",
            "Episode Id: 140 Return during training: 9.0\n",
            "Episode Id: 150 Return during training: 10.0\n",
            "Episode Id: 160 Return during training: 10.0\n",
            "Episode Id: 170 Return during training: 9.0\n",
            "Episode Id: 180 Return during training: 9.0\n",
            "Episode Id: 190 Return during training: 10.0\n",
            "Episode Id: 200 Return during training: 11.0\n",
            "Episode Id: 210 Return during training: 11.0\n",
            "Episode Id: 220 Return during training: 11.0\n",
            "Episode Id: 230 Return during training: 11.0\n",
            "Episode Id: 240 Return during training: 11.0\n",
            "Episode Id: 250 Return during training: 13.0\n",
            "Episode Id: 260 Return during training: 10.0\n",
            "Episode Id: 270 Return during training: 18.0\n",
            "Episode Id: 280 Return during training: 18.0\n",
            "Episode Id: 290 Return during training: 53.0\n",
            "Episode Id: 300 Return during training: 90.0\n",
            "Episode Id: 310 Return during training: 92.0\n",
            "Episode Id: 320 Return during training: 21.0\n",
            "Episode Id: 330 Return during training: 28.0\n",
            "Training was finished.\n"
          ],
          "name": "stdout"
        },
        {
          "output_type": "display_data",
          "data": {
            "image/png": "[encoded data removed]",
            "text/plain": [
              "<Figure size 432x288 with 1 Axes>"
            ]
          },
          "metadata": {
            "tags": [],
            "needs_background": "light"
          }
        }
      ]
    },
    {
      "cell_type": "markdown",
      "metadata": {
        "colab_type": "text",
        "id": "wyypxiJa3_jd"
      },
      "source": [
        "# 6. Run (hidden layer size = 64)"
      ]
    },
    {
      "cell_type": "code",
      "metadata": {
        "colab_type": "code",
        "id": "WxWBdMeB37Jv",
        "colab": {}
      },
      "source": [
        "class Parameters:\n",
        "\n",
        "    def __init__(self):\n",
        "                                 # Default values\n",
        "        self.buf_size = 5000     # 5000\n",
        "        self.batch = 256         # 256\n",
        "        self.epoch = 5           # 5\n",
        "        self.max_ep = 500         # 500\n",
        "        self.eps = 0.5           # 0.5\n",
        "        self.gamma = 0.9         # 0.9\n",
        "        self.C = 100             # 100\n",
        "        self.train_freq = 1      # 1\n",
        "        self.eval_freq = 10      # 10\n",
        "        self.net = [(64, 'relu'), (64, 'relu'), (2, 'relu')] # [(128, 'relu'), (128, 'relu'), (2, 'relu')]\n",
        "        self.lr = 0.0001         # 0.0001\n",
        "        self.opt = Optimizer.ADAM # Optimizer.ADAM"
      ],
      "execution_count": 0,
      "outputs": []
    },
    {
      "cell_type": "code",
      "metadata": {
        "colab_type": "code",
        "id": "YIrjfr9l4il7",
        "outputId": "81d03cb8-270f-496b-c048-36cbef49c2b2",
        "colab": {
          "base_uri": "https://localhost:8080/",
          "height": 745
        }
      },
      "source": [
        "# Running the training and evaluation\n",
        "pms = Parameters()\n",
        "dqn = Dqn(pms)\n",
        "ep_ids, returns = dqn.train_function()\n",
        "plt.plot(ep_ids, returns)\n",
        "dqn.evaluation(video=False)\n",
        "dqn.close()"
      ],
      "execution_count": 0,
      "outputs": [
        {
          "output_type": "stream",
          "text": [
            "Initialization was finished.\n",
            "Training was started.\n",
            "Episode Id: 10 Return during training: 17.0\n",
            "Episode Id: 20 Return during training: 11.0\n",
            "Episode Id: 30 Return during training: 10.0\n",
            "Episode Id: 40 Return during training: 9.0\n",
            "Episode Id: 50 Return during training: 10.0\n",
            "Episode Id: 60 Return during training: 9.0\n",
            "Episode Id: 70 Return during training: 12.0\n",
            "Episode Id: 80 Return during training: 12.0\n",
            "Episode Id: 90 Return during training: 9.0\n",
            "Episode Id: 100 Return during training: 11.0\n",
            "Episode Id: 110 Return during training: 13.0\n",
            "Episode Id: 120 Return during training: 12.0\n",
            "Episode Id: 130 Return during training: 11.0\n",
            "Episode Id: 140 Return during training: 76.0\n",
            "Episode Id: 150 Return during training: 105.0\n",
            "Episode Id: 160 Return during training: 129.0\n",
            "Episode Id: 170 Return during training: 117.0\n",
            "Episode Id: 180 Return during training: 160.0\n",
            "Episode Id: 190 Return during training: 125.0\n",
            "Episode Id: 200 Return during training: 35.0\n",
            "Episode Id: 210 Return during training: 133.0\n",
            "Episode Id: 220 Return during training: 171.0\n",
            "Episode Id: 230 Return during training: 160.0\n",
            "Episode Id: 240 Return during training: 170.0\n",
            "Episode Id: 250 Return during training: 175.0\n",
            "Training was finished.\n"
          ],
          "name": "stdout"
        },
        {
          "output_type": "display_data",
          "data": {
            "image/png": "[encoded data removed]",
            "text/plain": [
              "<Figure size 432x288 with 1 Axes>"
            ]
          },
          "metadata": {
            "tags": [],
            "needs_background": "light"
          }
        }
      ]
    },
    {
      "cell_type": "markdown",
      "metadata": {
        "colab_type": "text",
        "id": "hubeLNv_8wLG"
      },
      "source": [
        "# 7. Run (hidden layer size = 32)\n"
      ]
    },
    {
      "cell_type": "code",
      "metadata": {
        "colab_type": "code",
        "id": "HJfK9F_C8r5D",
        "colab": {}
      },
      "source": [
        "class Parameters:\n",
        "\n",
        "    def __init__(self):\n",
        "                                 # Default values\n",
        "        self.buf_size = 5000     # 5000\n",
        "        self.batch = 256         # 256\n",
        "        self.epoch = 5           # 5\n",
        "        self.max_ep = 2000         # 500\n",
        "        self.eps = 0.5           # 0.5\n",
        "        self.gamma = 0.9         # 0.9\n",
        "        self.C = 100             # 100\n",
        "        self.train_freq = 1      # 1\n",
        "        self.eval_freq = 10      # 10\n",
        "        self.net = [(32, 'relu'), (32, 'relu'), (2, 'relu')] # [(128, 'relu'), (128, 'relu'), (2, 'relu')]\n",
        "        self.lr = 0.0001         # 0.0001\n",
        "        self.opt = Optimizer.ADAM # Optimizer.ADAM"
      ],
      "execution_count": 0,
      "outputs": []
    },
    {
      "cell_type": "code",
      "metadata": {
        "colab_type": "code",
        "id": "hpPwA_i48r5M",
        "outputId": "1a3f50f3-d071-478c-8f1e-fc1517e9777a",
        "colab": {
          "base_uri": "https://localhost:8080/",
          "height": 1000
        }
      },
      "source": [
        "# Running the training and evaluation\n",
        "pms = Parameters()\n",
        "dqn = Dqn(pms)\n",
        "ep_ids, returns = dqn.train_function()\n",
        "plt.plot(ep_ids, returns)\n",
        "dqn.evaluation(video=False)\n",
        "dqn.close()"
      ],
      "execution_count": 0,
      "outputs": [
        {
          "output_type": "stream",
          "text": [
            "Initialization was finished.\n",
            "Training was started.\n",
            "Episode Id: 10 Return during training: 12.0\n",
            "Episode Id: 20 Return during training: 13.0\n",
            "Episode Id: 30 Return during training: 9.0\n",
            "Episode Id: 40 Return during training: 10.0\n",
            "Episode Id: 50 Return during training: 9.0\n",
            "Episode Id: 60 Return during training: 10.0\n",
            "Episode Id: 70 Return during training: 8.0\n",
            "Episode Id: 80 Return during training: 9.0\n",
            "Episode Id: 90 Return during training: 8.0\n",
            "Episode Id: 100 Return during training: 9.0\n",
            "Episode Id: 110 Return during training: 9.0\n",
            "Episode Id: 120 Return during training: 10.0\n",
            "Episode Id: 130 Return during training: 9.0\n",
            "Episode Id: 140 Return during training: 10.0\n",
            "Episode Id: 150 Return during training: 11.0\n",
            "Episode Id: 160 Return during training: 9.0\n",
            "Episode Id: 170 Return during training: 9.0\n",
            "Episode Id: 180 Return during training: 10.0\n",
            "Episode Id: 190 Return during training: 10.0\n",
            "Episode Id: 200 Return during training: 9.0\n",
            "Episode Id: 210 Return during training: 8.0\n",
            "Episode Id: 220 Return during training: 10.0\n",
            "Episode Id: 230 Return during training: 10.0\n",
            "Episode Id: 240 Return during training: 8.0\n",
            "Episode Id: 250 Return during training: 9.0\n",
            "Episode Id: 260 Return during training: 12.0\n",
            "Episode Id: 270 Return during training: 11.0\n",
            "Episode Id: 280 Return during training: 10.0\n",
            "Episode Id: 290 Return during training: 10.0\n",
            "Episode Id: 300 Return during training: 8.0\n",
            "Episode Id: 310 Return during training: 11.0\n",
            "Episode Id: 320 Return during training: 10.0\n",
            "Episode Id: 330 Return during training: 10.0\n",
            "Episode Id: 340 Return during training: 10.0\n",
            "Episode Id: 350 Return during training: 11.0\n",
            "Episode Id: 360 Return during training: 11.0\n",
            "Episode Id: 370 Return during training: 10.0\n",
            "Episode Id: 380 Return during training: 9.0\n",
            "Episode Id: 390 Return during training: 10.0\n",
            "Episode Id: 400 Return during training: 9.0\n",
            "Episode Id: 410 Return during training: 10.0\n",
            "Episode Id: 420 Return during training: 10.0\n",
            "Episode Id: 430 Return during training: 11.0\n",
            "Episode Id: 440 Return during training: 28.0\n",
            "Episode Id: 450 Return during training: 18.0\n",
            "Episode Id: 460 Return during training: 22.0\n",
            "Episode Id: 470 Return during training: 18.0\n",
            "Episode Id: 480 Return during training: 40.0\n",
            "Episode Id: 490 Return during training: 38.0\n",
            "Episode Id: 500 Return during training: 34.0\n",
            "Episode Id: 510 Return during training: 44.0\n",
            "Episode Id: 520 Return during training: 43.0\n",
            "Episode Id: 530 Return during training: 52.0\n",
            "Episode Id: 540 Return during training: 123.0\n",
            "Episode Id: 550 Return during training: 76.0\n",
            "Episode Id: 560 Return during training: 115.0\n",
            "Episode Id: 570 Return during training: 135.0\n",
            "Episode Id: 580 Return during training: 141.0\n",
            "Episode Id: 590 Return during training: 147.0\n",
            "Episode Id: 600 Return during training: 150.0\n",
            "Episode Id: 610 Return during training: 154.0\n",
            "Episode Id: 620 Return during training: 149.0\n",
            "Episode Id: 630 Return during training: 34.0\n",
            "Episode Id: 640 Return during training: 104.0\n",
            "Episode Id: 650 Return during training: 115.0\n",
            "Episode Id: 660 Return during training: 155.0\n",
            "Episode Id: 670 Return during training: 151.0\n",
            "Episode Id: 680 Return during training: 125.0\n",
            "Episode Id: 690 Return during training: 171.0\n",
            "Training was finished.\n"
          ],
          "name": "stdout"
        },
        {
          "output_type": "display_data",
          "data": {
            "image/png": "[encoded data removed]",
            "text/plain": [
              "<Figure size 432x288 with 1 Axes>"
            ]
          },
          "metadata": {
            "tags": [],
            "needs_background": "light"
          }
        }
      ]
    },
    {
      "cell_type": "markdown",
      "metadata": {
        "colab_type": "text",
        "id": "jVFhJ4cZLalb"
      },
      "source": [
        " # 8. Run (hidden layer size = 16)"
      ]
    },
    {
      "cell_type": "code",
      "metadata": {
        "colab_type": "code",
        "id": "72y89bkWLV_K",
        "colab": {}
      },
      "source": [
        "class Parameters:\n",
        "\n",
        "    def __init__(self):\n",
        "                                 # Default values\n",
        "        self.buf_size = 5000     # 5000\n",
        "        self.batch = 256         # 256\n",
        "        self.epoch = 5           # 5\n",
        "        self.max_ep = 3000         # 500\n",
        "        self.eps = 0.5           # 0.5\n",
        "        self.gamma = 0.9         # 0.9\n",
        "        self.C = 100             # 100\n",
        "        self.train_freq = 1      # 1\n",
        "        self.eval_freq = 10      # 10\n",
        "        self.net = [(16, 'relu'), (16, 'relu'), (2, 'relu')] # [(128, 'relu'), (128, 'relu'), (2, 'relu')]\n",
        "        self.lr = 0.0001         # 0.0001\n",
        "        self.opt = Optimizer.ADAM # Optimizer.ADAM"
      ],
      "execution_count": 0,
      "outputs": []
    },
    {
      "cell_type": "code",
      "metadata": {
        "colab_type": "code",
        "id": "RQ0pkfeeFIm1",
        "outputId": "86f8f145-8c19-4285-bd17-a27054efdad7",
        "colab": {
          "base_uri": "https://localhost:8080/",
          "height": 1000
        }
      },
      "source": [
        "# Running the training and evaluation\n",
        "pms = Parameters()\n",
        "dqn = Dqn(pms)\n",
        "ep_ids, returns = dqn.train_function()\n",
        "plt.plot(ep_ids, returns)\n",
        "dqn.evaluation(video=False)\n",
        "dqn.close()"
      ],
      "execution_count": 0,
      "outputs": [
        {
          "output_type": "stream",
          "text": [
            "Initialization was finished.\n",
            "Training was started.\n",
            "Episode Id: 10 Return during training: 11.0\n",
            "Episode Id: 20 Return during training: 15.0\n",
            "Episode Id: 30 Return during training: 10.0\n",
            "Episode Id: 40 Return during training: 10.0\n",
            "Episode Id: 50 Return during training: 10.0\n",
            "Episode Id: 60 Return during training: 9.0\n",
            "Episode Id: 70 Return during training: 9.0\n",
            "Episode Id: 80 Return during training: 9.0\n",
            "Episode Id: 90 Return during training: 10.0\n",
            "Episode Id: 100 Return during training: 12.0\n",
            "Episode Id: 110 Return during training: 11.0\n",
            "Episode Id: 120 Return during training: 9.0\n",
            "Episode Id: 130 Return during training: 9.0\n",
            "Episode Id: 140 Return during training: 11.0\n",
            "Episode Id: 150 Return during training: 11.0\n",
            "Episode Id: 160 Return during training: 13.0\n",
            "Episode Id: 170 Return during training: 9.0\n",
            "Episode Id: 180 Return during training: 9.0\n",
            "Episode Id: 190 Return during training: 11.0\n",
            "Episode Id: 200 Return during training: 9.0\n",
            "Episode Id: 210 Return during training: 9.0\n",
            "Episode Id: 220 Return during training: 10.0\n",
            "Episode Id: 230 Return during training: 10.0\n",
            "Episode Id: 240 Return during training: 10.0\n",
            "Episode Id: 250 Return during training: 10.0\n",
            "Episode Id: 260 Return during training: 11.0\n",
            "Episode Id: 270 Return during training: 9.0\n",
            "Episode Id: 280 Return during training: 11.0\n",
            "Episode Id: 290 Return during training: 11.0\n",
            "Episode Id: 300 Return during training: 11.0\n",
            "Episode Id: 310 Return during training: 10.0\n",
            "Episode Id: 320 Return during training: 9.0\n",
            "Episode Id: 330 Return during training: 11.0\n",
            "Episode Id: 340 Return during training: 10.0\n",
            "Episode Id: 350 Return during training: 10.0\n",
            "Episode Id: 360 Return during training: 10.0\n",
            "Episode Id: 370 Return during training: 10.0\n",
            "Episode Id: 380 Return during training: 10.0\n",
            "Episode Id: 390 Return during training: 10.0\n",
            "Episode Id: 400 Return during training: 11.0\n",
            "Episode Id: 410 Return during training: 9.0\n",
            "Episode Id: 420 Return during training: 9.0\n",
            "Episode Id: 430 Return during training: 9.0\n",
            "Episode Id: 440 Return during training: 9.0\n",
            "Episode Id: 450 Return during training: 10.0\n",
            "Episode Id: 460 Return during training: 10.0\n",
            "Episode Id: 470 Return during training: 12.0\n",
            "Episode Id: 480 Return during training: 35.0\n",
            "Episode Id: 490 Return during training: 9.0\n",
            "Episode Id: 500 Return during training: 10.0\n",
            "Episode Id: 510 Return during training: 68.0\n",
            "Episode Id: 520 Return during training: 11.0\n",
            "Episode Id: 530 Return during training: 10.0\n",
            "Episode Id: 540 Return during training: 129.0\n",
            "Episode Id: 550 Return during training: 11.0\n",
            "Episode Id: 560 Return during training: 10.0\n",
            "Episode Id: 570 Return during training: 101.0\n",
            "Episode Id: 580 Return during training: 99.0\n",
            "Episode Id: 590 Return during training: 53.0\n",
            "Episode Id: 600 Return during training: 10.0\n",
            "Episode Id: 610 Return during training: 44.0\n",
            "Episode Id: 620 Return during training: 30.0\n",
            "Episode Id: 630 Return during training: 57.0\n",
            "Episode Id: 640 Return during training: 34.0\n",
            "Episode Id: 650 Return during training: 86.0\n",
            "Episode Id: 660 Return during training: 13.0\n",
            "Episode Id: 670 Return during training: 73.0\n",
            "Episode Id: 680 Return during training: 16.0\n",
            "Episode Id: 690 Return during training: 78.0\n",
            "Episode Id: 700 Return during training: 75.0\n",
            "Episode Id: 710 Return during training: 81.0\n",
            "Episode Id: 720 Return during training: 84.0\n",
            "Episode Id: 730 Return during training: 82.0\n",
            "Episode Id: 740 Return during training: 81.0\n",
            "Episode Id: 750 Return during training: 79.0\n",
            "Episode Id: 760 Return during training: 86.0\n",
            "Episode Id: 770 Return during training: 84.0\n",
            "Episode Id: 780 Return during training: 105.0\n",
            "Episode Id: 790 Return during training: 117.0\n",
            "Episode Id: 800 Return during training: 135.0\n",
            "Episode Id: 810 Return during training: 130.0\n",
            "Episode Id: 820 Return during training: 117.0\n",
            "Episode Id: 830 Return during training: 121.0\n",
            "Episode Id: 840 Return during training: 122.0\n",
            "Episode Id: 850 Return during training: 111.0\n",
            "Episode Id: 860 Return during training: 151.0\n",
            "Episode Id: 870 Return during training: 159.0\n",
            "Episode Id: 880 Return during training: 188.0\n",
            "Training was finished.\n"
          ],
          "name": "stdout"
        },
        {
          "output_type": "display_data",
          "data": {
            "image/png": "[encoded data removed]",
            "text/plain": [
              "<Figure size 432x288 with 1 Axes>"
            ]
          },
          "metadata": {
            "tags": [],
            "needs_background": "light"
          }
        }
      ]
    },
    {
      "cell_type": "markdown",
      "metadata": {
        "colab_type": "text",
        "id": "yjckJmVHaYeR"
      },
      "source": [
        " # 9. Run (hidden layer size = 8)"
      ]
    },
    {
      "cell_type": "code",
      "metadata": {
        "colab_type": "code",
        "id": "SQglgJgZZ10x",
        "colab": {}
      },
      "source": [
        "class Parameters:\n",
        "\n",
        "    def __init__(self):\n",
        "                                 # Default values\n",
        "        self.buf_size = 5000     # 5000\n",
        "        self.batch = 256         # 256\n",
        "        self.epoch = 5           # 5\n",
        "        self.max_ep = 3000         # 500\n",
        "        self.eps = 0.5           # 0.5\n",
        "        self.gamma = 0.9         # 0.9\n",
        "        self.C = 100             # 100\n",
        "        self.train_freq = 1      # 1\n",
        "        self.eval_freq = 10      # 10\n",
        "        self.net = [(8, 'relu'), (8, 'relu'), (2, 'relu')] # [(128, 'relu'), (128, 'relu'), (2, 'relu')]\n",
        "        self.lr = 0.0001         # 0.0001\n",
        "        self.opt = Optimizer.ADAM # Optimizer.ADAM"
      ],
      "execution_count": 0,
      "outputs": []
    },
    {
      "cell_type": "code",
      "metadata": {
        "colab_type": "code",
        "id": "eD8ngtUIZ5US",
        "outputId": "8d1a3e6e-6d32-4fb5-f562-9bf792d060d0",
        "colab": {
          "base_uri": "https://localhost:8080/",
          "height": 1000
        }
      },
      "source": [
        "# Running the training and evaluation\n",
        "pms = Parameters()\n",
        "dqn = Dqn(pms)\n",
        "ep_ids, returns = dqn.train_function()\n",
        "plt.plot(ep_ids, returns)\n",
        "dqn.evaluation(video=False)\n",
        "dqn.close()"
      ],
      "execution_count": 0,
      "outputs": [
        {
          "output_type": "stream",
          "text": [
            "Initialization was finished.\n",
            "Training was started.\n",
            "Episode Id: 10 Return during training: 11.0\n",
            "Episode Id: 20 Return during training: 10.0\n",
            "Episode Id: 30 Return during training: 10.0\n",
            "Episode Id: 40 Return during training: 10.0\n",
            "Episode Id: 50 Return during training: 10.0\n",
            "Episode Id: 60 Return during training: 9.0\n",
            "Episode Id: 70 Return during training: 8.0\n",
            "Episode Id: 80 Return during training: 9.0\n",
            "Episode Id: 90 Return during training: 9.0\n",
            "Episode Id: 100 Return during training: 9.0\n",
            "Episode Id: 110 Return during training: 8.0\n",
            "Episode Id: 120 Return during training: 9.0\n",
            "Episode Id: 130 Return during training: 11.0\n",
            "Episode Id: 140 Return during training: 10.0\n",
            "Episode Id: 150 Return during training: 10.0\n",
            "Episode Id: 160 Return during training: 9.0\n",
            "Episode Id: 170 Return during training: 12.0\n",
            "Episode Id: 180 Return during training: 12.0\n",
            "Episode Id: 190 Return during training: 11.0\n",
            "Episode Id: 200 Return during training: 9.0\n",
            "Episode Id: 210 Return during training: 9.0\n",
            "Episode Id: 220 Return during training: 11.0\n",
            "Episode Id: 230 Return during training: 9.0\n",
            "Episode Id: 240 Return during training: 10.0\n",
            "Episode Id: 250 Return during training: 12.0\n",
            "Episode Id: 260 Return during training: 10.0\n",
            "Episode Id: 270 Return during training: 11.0\n",
            "Episode Id: 280 Return during training: 12.0\n",
            "Episode Id: 290 Return during training: 18.0\n",
            "Episode Id: 300 Return during training: 9.0\n",
            "Episode Id: 310 Return during training: 9.0\n",
            "Episode Id: 320 Return during training: 10.0\n",
            "Episode Id: 330 Return during training: 11.0\n",
            "Episode Id: 340 Return during training: 10.0\n",
            "Episode Id: 350 Return during training: 9.0\n",
            "Episode Id: 360 Return during training: 10.0\n",
            "Episode Id: 370 Return during training: 8.0\n",
            "Episode Id: 380 Return during training: 10.0\n",
            "Episode Id: 390 Return during training: 8.0\n",
            "Episode Id: 400 Return during training: 10.0\n",
            "Episode Id: 410 Return during training: 9.0\n",
            "Episode Id: 420 Return during training: 11.0\n",
            "Episode Id: 430 Return during training: 8.0\n",
            "Episode Id: 440 Return during training: 10.0\n",
            "Episode Id: 450 Return during training: 10.0\n",
            "Episode Id: 460 Return during training: 11.0\n",
            "Episode Id: 470 Return during training: 9.0\n",
            "Episode Id: 480 Return during training: 9.0\n",
            "Episode Id: 490 Return during training: 10.0\n",
            "Episode Id: 500 Return during training: 10.0\n",
            "Episode Id: 510 Return during training: 8.0\n",
            "Episode Id: 520 Return during training: 9.0\n",
            "Episode Id: 530 Return during training: 9.0\n",
            "Episode Id: 540 Return during training: 11.0\n",
            "Episode Id: 550 Return during training: 10.0\n",
            "Episode Id: 560 Return during training: 10.0\n",
            "Episode Id: 570 Return during training: 11.0\n",
            "Episode Id: 580 Return during training: 10.0\n",
            "Episode Id: 590 Return during training: 10.0\n",
            "Episode Id: 600 Return during training: 9.0\n",
            "Episode Id: 610 Return during training: 10.0\n",
            "Episode Id: 620 Return during training: 9.0\n",
            "Episode Id: 630 Return during training: 10.0\n",
            "Episode Id: 640 Return during training: 9.0\n",
            "Episode Id: 650 Return during training: 10.0\n",
            "Episode Id: 660 Return during training: 10.0\n",
            "Episode Id: 670 Return during training: 10.0\n",
            "Episode Id: 680 Return during training: 10.0\n",
            "Episode Id: 690 Return during training: 10.0\n",
            "Episode Id: 700 Return during training: 9.0\n",
            "Episode Id: 710 Return during training: 9.0\n",
            "Episode Id: 720 Return during training: 9.0\n",
            "Episode Id: 730 Return during training: 8.0\n",
            "Episode Id: 740 Return during training: 12.0\n",
            "Episode Id: 750 Return during training: 9.0\n",
            "Episode Id: 760 Return during training: 9.0\n",
            "Episode Id: 770 Return during training: 10.0\n",
            "Episode Id: 780 Return during training: 9.0\n",
            "Episode Id: 790 Return during training: 10.0\n",
            "Episode Id: 800 Return during training: 10.0\n",
            "Episode Id: 810 Return during training: 8.0\n",
            "Episode Id: 820 Return during training: 10.0\n",
            "Episode Id: 830 Return during training: 9.0\n",
            "Episode Id: 840 Return during training: 10.0\n",
            "Episode Id: 850 Return during training: 9.0\n",
            "Episode Id: 860 Return during training: 9.0\n",
            "Episode Id: 870 Return during training: 9.0\n",
            "Episode Id: 880 Return during training: 8.0\n",
            "Episode Id: 890 Return during training: 10.0\n",
            "Episode Id: 900 Return during training: 9.0\n",
            "Episode Id: 910 Return during training: 9.0\n",
            "Episode Id: 920 Return during training: 9.0\n",
            "Episode Id: 930 Return during training: 9.0\n",
            "Episode Id: 940 Return during training: 8.0\n",
            "Episode Id: 950 Return during training: 9.0\n",
            "Episode Id: 960 Return during training: 8.0\n",
            "Episode Id: 970 Return during training: 8.0\n",
            "Episode Id: 980 Return during training: 10.0\n",
            "Episode Id: 990 Return during training: 11.0\n",
            "Episode Id: 1000 Return during training: 9.0\n",
            "Episode Id: 1010 Return during training: 11.0\n",
            "Episode Id: 1020 Return during training: 10.0\n",
            "Episode Id: 1030 Return during training: 8.0\n",
            "Episode Id: 1040 Return during training: 9.0\n",
            "Episode Id: 1050 Return during training: 11.0\n",
            "Episode Id: 1060 Return during training: 10.0\n",
            "Episode Id: 1070 Return during training: 8.0\n",
            "Episode Id: 1080 Return during training: 10.0\n",
            "Episode Id: 1090 Return during training: 10.0\n",
            "Episode Id: 1100 Return during training: 8.0\n",
            "Episode Id: 1110 Return during training: 10.0\n",
            "Episode Id: 1120 Return during training: 10.0\n",
            "Episode Id: 1130 Return during training: 10.0\n",
            "Episode Id: 1140 Return during training: 11.0\n",
            "Episode Id: 1150 Return during training: 10.0\n",
            "Episode Id: 1160 Return during training: 10.0\n",
            "Episode Id: 1170 Return during training: 10.0\n",
            "Episode Id: 1180 Return during training: 10.0\n",
            "Episode Id: 1190 Return during training: 9.0\n",
            "Episode Id: 1200 Return during training: 10.0\n",
            "Episode Id: 1210 Return during training: 9.0\n",
            "Episode Id: 1220 Return during training: 10.0\n",
            "Episode Id: 1230 Return during training: 9.0\n",
            "Episode Id: 1240 Return during training: 11.0\n",
            "Episode Id: 1250 Return during training: 11.0\n",
            "Episode Id: 1260 Return during training: 9.0\n",
            "Episode Id: 1270 Return during training: 8.0\n",
            "Episode Id: 1280 Return during training: 11.0\n",
            "Episode Id: 1290 Return during training: 8.0\n",
            "Episode Id: 1300 Return during training: 9.0\n",
            "Episode Id: 1310 Return during training: 9.0\n",
            "Episode Id: 1320 Return during training: 10.0\n",
            "Episode Id: 1330 Return during training: 11.0\n",
            "Episode Id: 1340 Return during training: 11.0\n",
            "Episode Id: 1350 Return during training: 10.0\n",
            "Episode Id: 1360 Return during training: 10.0\n",
            "Episode Id: 1370 Return during training: 8.0\n",
            "Episode Id: 1380 Return during training: 8.0\n",
            "Episode Id: 1390 Return during training: 10.0\n",
            "Episode Id: 1400 Return during training: 9.0\n",
            "Episode Id: 1410 Return during training: 9.0\n",
            "Episode Id: 1420 Return during training: 10.0\n",
            "Episode Id: 1430 Return during training: 8.0\n",
            "Episode Id: 1440 Return during training: 10.0\n",
            "Episode Id: 1450 Return during training: 10.0\n",
            "Episode Id: 1460 Return during training: 10.0\n",
            "Episode Id: 1470 Return during training: 8.0\n",
            "Episode Id: 1480 Return during training: 9.0\n",
            "Episode Id: 1490 Return during training: 9.0\n",
            "Episode Id: 1500 Return during training: 9.0\n",
            "Episode Id: 1510 Return during training: 9.0\n",
            "Episode Id: 1520 Return during training: 11.0\n",
            "Episode Id: 1530 Return during training: 11.0\n",
            "Episode Id: 1540 Return during training: 11.0\n",
            "Episode Id: 1550 Return during training: 9.0\n",
            "Episode Id: 1560 Return during training: 9.0\n",
            "Episode Id: 1570 Return during training: 10.0\n",
            "Episode Id: 1580 Return during training: 10.0\n",
            "Episode Id: 1590 Return during training: 10.0\n",
            "Episode Id: 1600 Return during training: 10.0\n",
            "Episode Id: 1610 Return during training: 9.0\n",
            "Episode Id: 1620 Return during training: 11.0\n",
            "Episode Id: 1630 Return during training: 10.0\n",
            "Episode Id: 1640 Return during training: 11.0\n",
            "Episode Id: 1650 Return during training: 10.0\n",
            "Episode Id: 1660 Return during training: 9.0\n",
            "Episode Id: 1670 Return during training: 10.0\n",
            "Episode Id: 1680 Return during training: 10.0\n",
            "Episode Id: 1690 Return during training: 9.0\n",
            "Episode Id: 1700 Return during training: 9.0\n",
            "Episode Id: 1710 Return during training: 10.0\n",
            "Episode Id: 1720 Return during training: 11.0\n",
            "Episode Id: 1730 Return during training: 11.0\n",
            "Episode Id: 1740 Return during training: 10.0\n",
            "Episode Id: 1750 Return during training: 9.0\n",
            "Episode Id: 1760 Return during training: 10.0\n",
            "Episode Id: 1770 Return during training: 10.0\n",
            "Episode Id: 1780 Return during training: 11.0\n",
            "Episode Id: 1790 Return during training: 11.0\n",
            "Episode Id: 1800 Return during training: 9.0\n",
            "Episode Id: 1810 Return during training: 11.0\n",
            "Episode Id: 1820 Return during training: 10.0\n",
            "Episode Id: 1830 Return during training: 11.0\n",
            "Episode Id: 1840 Return during training: 12.0\n",
            "Episode Id: 1850 Return during training: 11.0\n",
            "Episode Id: 1860 Return during training: 11.0\n",
            "Episode Id: 1870 Return during training: 11.0\n",
            "Episode Id: 1880 Return during training: 11.0\n",
            "Episode Id: 1890 Return during training: 10.0\n",
            "Episode Id: 1900 Return during training: 11.0\n",
            "Episode Id: 1910 Return during training: 12.0\n",
            "Episode Id: 1920 Return during training: 12.0\n",
            "Episode Id: 1930 Return during training: 11.0\n",
            "Episode Id: 1940 Return during training: 13.0\n",
            "Episode Id: 1950 Return during training: 11.0\n",
            "Episode Id: 1960 Return during training: 10.0\n",
            "Episode Id: 1970 Return during training: 11.0\n",
            "Episode Id: 1980 Return during training: 12.0\n",
            "Episode Id: 1990 Return during training: 12.0\n",
            "Episode Id: 2000 Return during training: 9.0\n",
            "Episode Id: 2010 Return during training: 10.0\n",
            "Episode Id: 2020 Return during training: 13.0\n",
            "Episode Id: 2030 Return during training: 15.0\n",
            "Episode Id: 2040 Return during training: 9.0\n",
            "Episode Id: 2050 Return during training: 14.0\n",
            "Episode Id: 2060 Return during training: 11.0\n",
            "Episode Id: 2070 Return during training: 11.0\n",
            "Episode Id: 2080 Return during training: 10.0\n",
            "Episode Id: 2090 Return during training: 11.0\n",
            "Episode Id: 2100 Return during training: 14.0\n",
            "Episode Id: 2110 Return during training: 13.0\n",
            "Episode Id: 2120 Return during training: 12.0\n",
            "Episode Id: 2130 Return during training: 19.0\n",
            "Episode Id: 2140 Return during training: 14.0\n",
            "Episode Id: 2150 Return during training: 11.0\n",
            "Episode Id: 2160 Return during training: 12.0\n",
            "Episode Id: 2170 Return during training: 11.0\n",
            "Episode Id: 2180 Return during training: 16.0\n",
            "Episode Id: 2190 Return during training: 24.0\n",
            "Episode Id: 2200 Return during training: 32.0\n",
            "Episode Id: 2210 Return during training: 8.0\n",
            "Episode Id: 2220 Return during training: 37.0\n",
            "Episode Id: 2230 Return during training: 23.0\n",
            "Episode Id: 2240 Return during training: 18.0\n",
            "Episode Id: 2250 Return during training: 30.0\n",
            "Episode Id: 2260 Return during training: 28.0\n",
            "Episode Id: 2270 Return during training: 20.0\n",
            "Episode Id: 2280 Return during training: 18.0\n",
            "Episode Id: 2290 Return during training: 15.0\n",
            "Episode Id: 2300 Return during training: 31.0\n",
            "Episode Id: 2310 Return during training: 33.0\n",
            "Episode Id: 2320 Return during training: 24.0\n",
            "Episode Id: 2330 Return during training: 14.0\n",
            "Episode Id: 2340 Return during training: 21.0\n",
            "Episode Id: 2350 Return during training: 19.0\n",
            "Episode Id: 2360 Return during training: 17.0\n",
            "Episode Id: 2370 Return during training: 24.0\n",
            "Episode Id: 2380 Return during training: 23.0\n",
            "Episode Id: 2390 Return during training: 15.0\n",
            "Episode Id: 2400 Return during training: 17.0\n",
            "Episode Id: 2410 Return during training: 18.0\n",
            "Episode Id: 2420 Return during training: 23.0\n",
            "Episode Id: 2430 Return during training: 17.0\n",
            "Episode Id: 2440 Return during training: 13.0\n",
            "Episode Id: 2450 Return during training: 24.0\n",
            "Episode Id: 2460 Return during training: 28.0\n",
            "Episode Id: 2470 Return during training: 19.0\n",
            "Episode Id: 2480 Return during training: 31.0\n",
            "Episode Id: 2490 Return during training: 24.0\n",
            "Episode Id: 2500 Return during training: 20.0\n",
            "Episode Id: 2510 Return during training: 12.0\n",
            "Episode Id: 2520 Return during training: 17.0\n",
            "Episode Id: 2530 Return during training: 20.0\n",
            "Episode Id: 2540 Return during training: 18.0\n",
            "Episode Id: 2550 Return during training: 21.0\n",
            "Episode Id: 2560 Return during training: 34.0\n",
            "Episode Id: 2570 Return during training: 18.0\n",
            "Episode Id: 2580 Return during training: 20.0\n",
            "Episode Id: 2590 Return during training: 16.0\n",
            "Episode Id: 2600 Return during training: 11.0\n",
            "Episode Id: 2610 Return during training: 26.0\n",
            "Episode Id: 2620 Return during training: 10.0\n",
            "Episode Id: 2630 Return during training: 8.0\n",
            "Episode Id: 2640 Return during training: 22.0\n",
            "Episode Id: 2650 Return during training: 10.0\n",
            "Episode Id: 2660 Return during training: 17.0\n",
            "Episode Id: 2670 Return during training: 27.0\n",
            "Episode Id: 2680 Return during training: 42.0\n",
            "Episode Id: 2690 Return during training: 26.0\n",
            "Episode Id: 2700 Return during training: 39.0\n",
            "Episode Id: 2710 Return during training: 28.0\n",
            "Episode Id: 2720 Return during training: 12.0\n",
            "Episode Id: 2730 Return during training: 28.0\n",
            "Episode Id: 2740 Return during training: 22.0\n",
            "Episode Id: 2750 Return during training: 23.0\n",
            "Episode Id: 2760 Return during training: 22.0\n",
            "Episode Id: 2770 Return during training: 29.0\n",
            "Episode Id: 2780 Return during training: 11.0\n",
            "Episode Id: 2790 Return during training: 9.0\n",
            "Episode Id: 2800 Return during training: 23.0\n",
            "Episode Id: 2810 Return during training: 19.0\n",
            "Episode Id: 2820 Return during training: 10.0\n",
            "Episode Id: 2830 Return during training: 19.0\n",
            "Episode Id: 2840 Return during training: 23.0\n",
            "Episode Id: 2850 Return during training: 11.0\n",
            "Episode Id: 2860 Return during training: 9.0\n",
            "Episode Id: 2870 Return during training: 13.0\n",
            "Episode Id: 2880 Return during training: 24.0\n",
            "Episode Id: 2890 Return during training: 19.0\n",
            "Episode Id: 2900 Return during training: 19.0\n",
            "Episode Id: 2910 Return during training: 10.0\n",
            "Episode Id: 2920 Return during training: 11.0\n",
            "Episode Id: 2930 Return during training: 21.0\n",
            "Episode Id: 2940 Return during training: 19.0\n",
            "Episode Id: 2950 Return during training: 11.0\n",
            "Episode Id: 2960 Return during training: 15.0\n",
            "Episode Id: 2970 Return during training: 13.0\n",
            "Episode Id: 2980 Return during training: 10.0\n",
            "Episode Id: 2990 Return during training: 28.0\n",
            "Training was finished.\n"
          ],
          "name": "stdout"
        },
        {
          "output_type": "display_data",
          "data": {
            "image/png": "[encoded data removed]",
            "text/plain": [
              "<Figure size 432x288 with 1 Axes>"
            ]
          },
          "metadata": {
            "tags": [],
            "needs_background": "light"
          }
        }
      ]
    },
    {
      "cell_type": "markdown",
      "metadata": {
        "colab_type": "text",
        "id": "NbpJbyUOsQBB"
      },
      "source": [
        " # 10. Run (decreasing buffer size to 500)"
      ]
    },
    {
      "cell_type": "code",
      "metadata": {
        "colab_type": "code",
        "id": "FItGGzWcsQBG",
        "colab": {}
      },
      "source": [
        "class Parameters:\n",
        "\n",
        "    def __init__(self):\n",
        "                                 # Default values\n",
        "        self.buf_size = 500      # 5000\n",
        "        self.batch = 256         # 256\n",
        "        self.epoch = 5           # 5\n",
        "        self.max_ep = 500         # 500\n",
        "        self.eps = 0.5           # 0.5\n",
        "        self.gamma = 0.9         # 0.9\n",
        "        self.C = 100             # 100\n",
        "        self.train_freq = 1      # 1\n",
        "        self.eval_freq = 10      # 10\n",
        "        self.net = [(128, 'relu'), (128, 'relu'), (2, 'relu')] # [(128, 'relu'), (128, 'relu'), (2, 'relu')]\n",
        "        self.lr = 0.0001         # 0.0001\n",
        "        self.opt = Optimizer.ADAM # Optimizer.ADAM"
      ],
      "execution_count": 0,
      "outputs": []
    },
    {
      "cell_type": "code",
      "metadata": {
        "colab_type": "code",
        "id": "yQAPqc1GsQBK",
        "outputId": "f136dc81-b75f-40c0-c70c-693d2f92f7d3",
        "colab": {
          "base_uri": "https://localhost:8080/",
          "height": 1000
        }
      },
      "source": [
        "# Running the training and evaluation\n",
        "pms = Parameters()\n",
        "dqn = Dqn(pms)\n",
        "ep_ids, returns = dqn.train_function()\n",
        "plt.plot(ep_ids, returns)\n",
        "dqn.evaluation(video=False)\n",
        "dqn.close()"
      ],
      "execution_count": 0,
      "outputs": [
        {
          "output_type": "stream",
          "text": [
            "WARNING:tensorflow:From /tensorflow-1.15.2/python3.6/tensorflow_core/python/ops/resource_variable_ops.py:1630: calling BaseResourceVariable.__init__ (from tensorflow.python.ops.resource_variable_ops) with constraint is deprecated and will be removed in a future version.\n",
            "Instructions for updating:\n",
            "If using Keras pass *_constraint arguments to layers.\n",
            "Initialization was finished.\n",
            "Training was started.\n",
            "WARNING:tensorflow:From /usr/local/lib/python3.6/dist-packages/keras/backend/tensorflow_backend.py:422: The name tf.global_variables is deprecated. Please use tf.compat.v1.global_variables instead.\n",
            "\n",
            "Episode Id: 10 Return during training: 20.0\n",
            "Episode Id: 20 Return during training: 15.0\n",
            "Episode Id: 30 Return during training: 13.0\n",
            "Episode Id: 40 Return during training: 11.0\n",
            "Episode Id: 50 Return during training: 10.0\n",
            "Episode Id: 60 Return during training: 23.0\n",
            "Episode Id: 70 Return during training: 19.0\n",
            "Episode Id: 80 Return during training: 18.0\n",
            "Episode Id: 90 Return during training: 16.0\n",
            "Episode Id: 100 Return during training: 14.0\n",
            "Episode Id: 110 Return during training: 19.0\n",
            "Episode Id: 120 Return during training: 25.0\n",
            "Episode Id: 130 Return during training: 28.0\n",
            "Episode Id: 140 Return during training: 34.0\n",
            "Episode Id: 150 Return during training: 10.0\n",
            "Episode Id: 160 Return during training: 12.0\n",
            "Episode Id: 170 Return during training: 9.0\n",
            "Episode Id: 180 Return during training: 11.0\n",
            "Episode Id: 190 Return during training: 11.0\n",
            "Episode Id: 200 Return during training: 10.0\n",
            "Episode Id: 210 Return during training: 9.0\n",
            "Episode Id: 220 Return during training: 12.0\n",
            "Episode Id: 230 Return during training: 9.0\n",
            "Episode Id: 240 Return during training: 10.0\n",
            "Episode Id: 250 Return during training: 8.0\n",
            "Episode Id: 260 Return during training: 9.0\n",
            "Episode Id: 270 Return during training: 10.0\n",
            "Episode Id: 280 Return during training: 9.0\n",
            "Episode Id: 290 Return during training: 10.0\n",
            "Episode Id: 300 Return during training: 10.0\n",
            "Episode Id: 310 Return during training: 8.0\n",
            "Episode Id: 320 Return during training: 9.0\n",
            "Episode Id: 330 Return during training: 10.0\n",
            "Episode Id: 340 Return during training: 9.0\n",
            "Episode Id: 350 Return during training: 25.0\n",
            "Episode Id: 360 Return during training: 26.0\n",
            "Episode Id: 370 Return during training: 134.0\n",
            "Episode Id: 380 Return during training: 9.0\n",
            "Episode Id: 390 Return during training: 10.0\n",
            "Episode Id: 400 Return during training: 9.0\n",
            "Episode Id: 410 Return during training: 10.0\n",
            "Episode Id: 420 Return during training: 100.0\n",
            "Episode Id: 430 Return during training: 143.0\n",
            "Episode Id: 440 Return during training: 86.0\n",
            "Episode Id: 450 Return during training: 127.0\n",
            "Episode Id: 460 Return during training: 178.0\n",
            "Episode Id: 470 Return during training: 31.0\n",
            "Episode Id: 480 Return during training: 10.0\n",
            "Episode Id: 490 Return during training: 173.0\n",
            "Training was finished.\n"
          ],
          "name": "stdout"
        },
        {
          "output_type": "display_data",
          "data": {
            "image/png": "[encoded data removed]",
            "text/plain": [
              "<Figure size 432x288 with 1 Axes>"
            ]
          },
          "metadata": {
            "tags": [],
            "needs_background": "light"
          }
        }
      ]
    },
    {
      "cell_type": "markdown",
      "metadata": {
        "colab_type": "text",
        "id": "YMCfLEvQtIHW"
      },
      "source": [
        " # 11. Run (increasing buffer size to 50000)"
      ]
    },
    {
      "cell_type": "code",
      "metadata": {
        "colab_type": "code",
        "id": "KDYkP6cItIHl",
        "colab": {}
      },
      "source": [
        "class Parameters:\n",
        "\n",
        "    def __init__(self):\n",
        "                                 # Default values\n",
        "        self.buf_size = 50000    # 5000\n",
        "        self.batch = 256         # 256\n",
        "        self.epoch = 5           # 5\n",
        "        self.max_ep = 500         # 500\n",
        "        self.eps = 0.5           # 0.5\n",
        "        self.gamma = 0.9         # 0.9\n",
        "        self.C = 100             # 100\n",
        "        self.train_freq = 1      # 1\n",
        "        self.eval_freq = 10      # 10\n",
        "        self.net = [(128, 'relu'), (128, 'relu'), (2, 'relu')] # [(128, 'relu'), (128, 'relu'), (2, 'relu')]\n",
        "        self.lr = 0.0001         # 0.0001\n",
        "        self.opt = Optimizer.ADAM # Optimizer.ADAM"
      ],
      "execution_count": 0,
      "outputs": []
    },
    {
      "cell_type": "code",
      "metadata": {
        "colab_type": "code",
        "id": "AlPGd6rZtIHs",
        "outputId": "5cebf438-6be7-491b-e244-7217c3bd0f43",
        "colab": {
          "base_uri": "https://localhost:8080/",
          "height": 469
        }
      },
      "source": [
        "# Running the training and evaluation\n",
        "pms = Parameters()\n",
        "dqn = Dqn(pms)\n",
        "ep_ids, returns = dqn.train_function()\n",
        "plt.plot(ep_ids, returns)\n",
        "dqn.evaluation(video=False)\n",
        "dqn.close()"
      ],
      "execution_count": 0,
      "outputs": [
        {
          "output_type": "stream",
          "text": [
            "Initialization was finished.\n",
            "Training was started.\n",
            "Episode Id: 10 Return during training: 14.0\n",
            "Episode Id: 20 Return during training: 10.0\n",
            "Episode Id: 30 Return during training: 9.0\n",
            "Episode Id: 40 Return during training: 13.0\n",
            "Episode Id: 50 Return during training: 16.0\n",
            "Episode Id: 60 Return during training: 29.0\n",
            "Episode Id: 70 Return during training: 75.0\n",
            "Episode Id: 80 Return during training: 75.0\n",
            "Episode Id: 90 Return during training: 79.0\n",
            "Training was finished.\n"
          ],
          "name": "stdout"
        },
        {
          "output_type": "display_data",
          "data": {
            "image/png": "[encoded data removed]",
            "text/plain": [
              "<Figure size 432x288 with 1 Axes>"
            ]
          },
          "metadata": {
            "tags": [],
            "needs_background": "light"
          }
        }
      ]
    },
    {
      "cell_type": "markdown",
      "metadata": {
        "colab_type": "text",
        "id": "vcmtM21RfIEh"
      },
      "source": [
        "# 12. Summary"
      ]
    },
    {
      "cell_type": "markdown",
      "metadata": {
        "colab_type": "text",
        "id": "6GHnJGHxwbUb"
      },
      "source": [
        "With default parameters the DQN algorithm seems to converge most times. However, the number of epsiodes until convergergence varies and it does not necessarily learns continuously. \n",
        "\n",
        "When playing around with the hyperparameters, I focused on the hyperparameters, which are specific to reinforcement learning and which I did not encounter before such as the size of the experience replay and the frequency of synchronizing the frozen network. I was also interested in how far I could decrease the overall layer sizes / compress the approximation of the q-learning table.\n",
        "\n",
        "One observation regarding the layer sizes is that the smaller the neural network gets, the more episodes for training are needed to win the game. When using two hidden layers with 16 neurons each, the algorithm was still able to win the game after about 900 episodes. However, using 8 neurons per layer seems to small to win the game. Here, the return starts to fluctuate around 20 with no upward trend. So, I belive even with increased episodes (3000 were tested) the algorithm would not converge. \n",
        "\n",
        "When setting the frequency of syncronication of the frozen network to 1, the algorithm does not converge anymore (500 episodes were tested). Also, the reward fluctuates more. This is, of course, not surprising as the idea of the delayed update of the frozen network is to stabilize the training process.\n",
        "\n",
        "Decreasing the buffer size/experience replay from 5000 to 500, did harm the algorithm and it could not converve within 500 episodes. As old experience are deleted when new experiences are added that could mean that the old experience are still valuable for winning. Also, the shorter the memory, the more the experiences correllate with each other. On the other hand, when we increase the buffer size from 5000 to 50000, there are no noticeable changes in performance. Some runs with default parameters performed better, some worse.\n",
        "\n",
        "As said, I focused on specific DQN hyperparameters. Batch size and the number of epochs are important parameters, too -- especially to increase the computational performance of the algorithm. Also, the learning rate is important and I think with optimizing the learning rate, we could make the algorithm more stable. If I had more time, I would also run some variations of gamma. The higher gamma is set, the higher future rewards are weighted and vice versa. It would be interesting to know the impact of that trade off."
      ]
    }
  ]
}